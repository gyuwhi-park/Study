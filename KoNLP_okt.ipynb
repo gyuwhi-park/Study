{
  "nbformat": 4,
  "nbformat_minor": 0,
  "metadata": {
    "colab": {
      "provenance": [],
      "authorship_tag": "ABX9TyPrQtluUmxmE3Kk7d3Kd7Bz",
      "include_colab_link": true
    },
    "kernelspec": {
      "name": "python3",
      "display_name": "Python 3"
    },
    "language_info": {
      "name": "python"
    }
  },
  "cells": [
    {
      "cell_type": "markdown",
      "metadata": {
        "id": "view-in-github",
        "colab_type": "text"
      },
      "source": [
        "<a href=\"https://colab.research.google.com/github/gyuwhi-park/Study/blob/Machine-learning/KoNLP_okt.ipynb\" target=\"_parent\"><img src=\"https://colab.research.google.com/assets/colab-badge.svg\" alt=\"Open In Colab\"/></a>"
      ]
    },
    {
      "cell_type": "markdown",
      "source": [
        "#KoNLP\n",
        "    - KoNLPy는 한국어 정보처리를 위한 파이썬 패키지이다.\n",
        "        참고 : https://konlpy-ko.readthedocs.io/ko/v0.4.3/\n",
        "    - NLP(자연어 처리)는 텍스트에서 의미있는 정보를 분석, 추출하고 이해하는 기술을 말한다.\n",
        "    - 한국어는 영어와 다르게 조사 등이 띄어쓰기 없이 붙어있기 때문에 이를 처리하는 과정이 필요하다.\n",
        "    - KoNLP를 위한 패키지에는 Hannanum, Kkma, Komoran, Mecab, okt(twitter)가 있는데, 여기에서는 okt를 활용한다."
      ],
      "metadata": {
        "id": "i1eAtz7AR7VI"
      }
    },
    {
      "cell_type": "code",
      "execution_count": null,
      "metadata": {
        "id": "ssiU369LR0V0"
      },
      "outputs": [],
      "source": [
        "#참고 리스트\n",
        "\n",
        "#https://konlpy.org/ko/latest/index.html\n",
        "\n",
        "#okt(tweeter) - https://konlpy.org/ko/latest/api/konlpy.tag/#konlpy.tag._okt.Okt"
      ]
    },
    {
      "cell_type": "code",
      "source": [
        "! pip install konlpy\n",
        "! pip install tweepy==3.10.0"
      ],
      "metadata": {
        "colab": {
          "base_uri": "https://localhost:8080/"
        },
        "id": "T7oR5aZdTFO9",
        "outputId": "12c11474-f07e-43e9-e463-a839bb17efa7"
      },
      "execution_count": 1,
      "outputs": [
        {
          "output_type": "stream",
          "name": "stdout",
          "text": [
            "Looking in indexes: https://pypi.org/simple, https://us-python.pkg.dev/colab-wheels/public/simple/\n",
            "Collecting konlpy\n",
            "  Downloading konlpy-0.6.0-py2.py3-none-any.whl (19.4 MB)\n",
            "\u001b[K     |████████████████████████████████| 19.4 MB 1.2 MB/s \n",
            "\u001b[?25hCollecting JPype1>=0.7.0\n",
            "  Downloading JPype1-1.4.0-cp37-cp37m-manylinux_2_5_x86_64.manylinux1_x86_64.whl (453 kB)\n",
            "\u001b[K     |████████████████████████████████| 453 kB 48.6 MB/s \n",
            "\u001b[?25hRequirement already satisfied: numpy>=1.6 in /usr/local/lib/python3.7/dist-packages (from konlpy) (1.21.6)\n",
            "Requirement already satisfied: lxml>=4.1.0 in /usr/local/lib/python3.7/dist-packages (from konlpy) (4.9.1)\n",
            "Requirement already satisfied: typing-extensions in /usr/local/lib/python3.7/dist-packages (from JPype1>=0.7.0->konlpy) (4.1.1)\n",
            "Installing collected packages: JPype1, konlpy\n",
            "Successfully installed JPype1-1.4.0 konlpy-0.6.0\n",
            "Looking in indexes: https://pypi.org/simple, https://us-python.pkg.dev/colab-wheels/public/simple/\n",
            "Requirement already satisfied: tweepy==3.10.0 in /usr/local/lib/python3.7/dist-packages (3.10.0)\n",
            "Requirement already satisfied: requests[socks]>=2.11.1 in /usr/local/lib/python3.7/dist-packages (from tweepy==3.10.0) (2.23.0)\n",
            "Requirement already satisfied: six>=1.10.0 in /usr/local/lib/python3.7/dist-packages (from tweepy==3.10.0) (1.15.0)\n",
            "Requirement already satisfied: requests-oauthlib>=0.7.0 in /usr/local/lib/python3.7/dist-packages (from tweepy==3.10.0) (1.3.1)\n",
            "Requirement already satisfied: oauthlib>=3.0.0 in /usr/local/lib/python3.7/dist-packages (from requests-oauthlib>=0.7.0->tweepy==3.10.0) (3.2.0)\n",
            "Requirement already satisfied: urllib3!=1.25.0,!=1.25.1,<1.26,>=1.21.1 in /usr/local/lib/python3.7/dist-packages (from requests[socks]>=2.11.1->tweepy==3.10.0) (1.24.3)\n",
            "Requirement already satisfied: chardet<4,>=3.0.2 in /usr/local/lib/python3.7/dist-packages (from requests[socks]>=2.11.1->tweepy==3.10.0) (3.0.4)\n",
            "Requirement already satisfied: idna<3,>=2.5 in /usr/local/lib/python3.7/dist-packages (from requests[socks]>=2.11.1->tweepy==3.10.0) (2.10)\n",
            "Requirement already satisfied: certifi>=2017.4.17 in /usr/local/lib/python3.7/dist-packages (from requests[socks]>=2.11.1->tweepy==3.10.0) (2022.6.15)\n",
            "Requirement already satisfied: PySocks!=1.5.7,>=1.5.6 in /usr/local/lib/python3.7/dist-packages (from requests[socks]>=2.11.1->tweepy==3.10.0) (1.7.1)\n"
          ]
        }
      ]
    },
    {
      "cell_type": "code",
      "source": [
        "import konlpy\n",
        "from konlpy.tag import Okt\n",
        "twitter=Okt()"
      ],
      "metadata": {
        "id": "UGYfZPiNTG2J"
      },
      "execution_count": 2,
      "outputs": []
    },
    {
      "cell_type": "code",
      "source": [
        "txt1 = '아버지가방에들어가신다'\n",
        "txt2 = '지오디의사랑해그리고기억해'\n",
        "txt3 = '서울시장애인복지관'\n",
        "\n",
        "#1,2는 띄어쓰기에 따라 다른 문장으로 나오기도 하고,\n",
        "#3은 원래의 문장을 찾을수가 없다."
      ],
      "metadata": {
        "id": "4o2a5yBUTtmI"
      },
      "execution_count": 33,
      "outputs": []
    },
    {
      "cell_type": "code",
      "source": [
        "twitter.pos(txt1)"
      ],
      "metadata": {
        "colab": {
          "base_uri": "https://localhost:8080/"
        },
        "id": "8yboP5FsT-uI",
        "outputId": "b329b9ae-a9af-445c-efb9-726479852743"
      },
      "execution_count": 34,
      "outputs": [
        {
          "output_type": "execute_result",
          "data": {
            "text/plain": [
              "[('아버지', 'Noun'), ('가방', 'Noun'), ('에', 'Josa'), ('들어가신다', 'Verb')]"
            ]
          },
          "metadata": {},
          "execution_count": 34
        }
      ]
    },
    {
      "cell_type": "code",
      "source": [
        "twitter.pos(\"아버지가방에 들어가신다\")"
      ],
      "metadata": {
        "colab": {
          "base_uri": "https://localhost:8080/"
        },
        "id": "I_SuVfwHWVvH",
        "outputId": "b331eb1a-dc42-452f-ed0b-108ec4473ec2"
      },
      "execution_count": 35,
      "outputs": [
        {
          "output_type": "execute_result",
          "data": {
            "text/plain": [
              "[('아버지', 'Noun'), ('가방', 'Noun'), ('에', 'Josa'), ('들어가신다', 'Verb')]"
            ]
          },
          "metadata": {},
          "execution_count": 35
        }
      ]
    },
    {
      "cell_type": "code",
      "source": [
        "twitter.pos(txt2)"
      ],
      "metadata": {
        "colab": {
          "base_uri": "https://localhost:8080/"
        },
        "id": "0URIYkwtUP1A",
        "outputId": "a3d7f7e8-d545-4a73-922e-e21e05e1dea8"
      },
      "execution_count": 36,
      "outputs": [
        {
          "output_type": "execute_result",
          "data": {
            "text/plain": [
              "[('지오디', 'Noun'),\n",
              " ('의', 'Josa'),\n",
              " ('사랑', 'Noun'),\n",
              " ('해', 'Noun'),\n",
              " ('그리고', 'Conjunction'),\n",
              " ('기억', 'Noun'),\n",
              " ('해', 'Noun')]"
            ]
          },
          "metadata": {},
          "execution_count": 36
        }
      ]
    },
    {
      "cell_type": "code",
      "source": [
        "twitter.pos(\"지오디 의사랑해 그리고 기억해\")"
      ],
      "metadata": {
        "colab": {
          "base_uri": "https://localhost:8080/"
        },
        "id": "Veg1ZFO4WQdf",
        "outputId": "1c40f3fe-feea-4e35-bdc5-2ff977d09e49"
      },
      "execution_count": 37,
      "outputs": [
        {
          "output_type": "execute_result",
          "data": {
            "text/plain": [
              "[('지오디', 'Noun'),\n",
              " ('의사', 'Noun'),\n",
              " ('랑', 'Josa'),\n",
              " ('해', 'Noun'),\n",
              " ('그리고', 'Conjunction'),\n",
              " ('기억', 'Noun'),\n",
              " ('해', 'Verb')]"
            ]
          },
          "metadata": {},
          "execution_count": 37
        }
      ]
    },
    {
      "cell_type": "code",
      "source": [
        "twitter.pos(txt3)"
      ],
      "metadata": {
        "colab": {
          "base_uri": "https://localhost:8080/"
        },
        "id": "AG9KY3HTURM5",
        "outputId": "d74a2dcf-a4fe-462c-e27c-f41ff110b9bf"
      },
      "execution_count": 38,
      "outputs": [
        {
          "output_type": "execute_result",
          "data": {
            "text/plain": [
              "[('서울시장', 'Noun'), ('애인', 'Noun'), ('복지관', 'Noun')]"
            ]
          },
          "metadata": {},
          "execution_count": 38
        }
      ]
    },
    {
      "cell_type": "markdown",
      "source": [
        "##형태소 분석\n",
        "     - 어간추출(stemming) : morphs(객체명, stem = true)\n",
        "     -> 각 단어의 원형을 추출해서 출력\n",
        "        ex) 들어가신다 -> 들어가다(원형)"
      ],
      "metadata": {
        "id": "vd01ZX4gUlty"
      }
    },
    {
      "cell_type": "code",
      "source": [
        "twitter.morphs(txt1, norm = True, stem=True)"
      ],
      "metadata": {
        "colab": {
          "base_uri": "https://localhost:8080/"
        },
        "id": "1szZUAmZU-jE",
        "outputId": "2f7bb74e-c370-4f12-a955-52a223c24d95"
      },
      "execution_count": 39,
      "outputs": [
        {
          "output_type": "execute_result",
          "data": {
            "text/plain": [
              "['아버지', '가방', '에', '들어가다']"
            ]
          },
          "metadata": {},
          "execution_count": 39
        }
      ]
    },
    {
      "cell_type": "code",
      "source": [
        "twitter.morphs(txt1, stem=False)"
      ],
      "metadata": {
        "colab": {
          "base_uri": "https://localhost:8080/"
        },
        "id": "mVurBVi3VSKp",
        "outputId": "346ddcf8-21f7-4636-8271-c1a1b0ac7df1"
      },
      "execution_count": 40,
      "outputs": [
        {
          "output_type": "execute_result",
          "data": {
            "text/plain": [
              "['아버지', '가방', '에', '들어가신다']"
            ]
          },
          "metadata": {},
          "execution_count": 40
        }
      ]
    },
    {
      "cell_type": "code",
      "source": [
        "twitter.morphs(txt2, stem=True)"
      ],
      "metadata": {
        "colab": {
          "base_uri": "https://localhost:8080/"
        },
        "id": "lQSvZhpuVFHE",
        "outputId": "4c7e35b6-234a-452d-b715-3f1486ffc6e1"
      },
      "execution_count": 41,
      "outputs": [
        {
          "output_type": "execute_result",
          "data": {
            "text/plain": [
              "['지오디', '의', '사랑', '해', '그리고', '기억', '해']"
            ]
          },
          "metadata": {},
          "execution_count": 41
        }
      ]
    },
    {
      "cell_type": "code",
      "source": [
        "twitter.morphs(txt3, stem=True)"
      ],
      "metadata": {
        "colab": {
          "base_uri": "https://localhost:8080/"
        },
        "id": "HSomOdohVGnp",
        "outputId": "a683e210-b31c-4ac3-bfed-f36068daab67"
      },
      "execution_count": 42,
      "outputs": [
        {
          "output_type": "execute_result",
          "data": {
            "text/plain": [
              "['서울시장', '애인', '복지관']"
            ]
          },
          "metadata": {},
          "execution_count": 42
        }
      ]
    },
    {
      "cell_type": "markdown",
      "source": [
        "##명사 추출\n",
        "    -nouns(객체명)"
      ],
      "metadata": {
        "id": "WoqLqnhrVXwf"
      }
    },
    {
      "cell_type": "code",
      "source": [
        "twitter.nouns(txt1)"
      ],
      "metadata": {
        "colab": {
          "base_uri": "https://localhost:8080/"
        },
        "id": "KquNngZ0VVFY",
        "outputId": "115828cc-b804-40b8-f51b-9384215c629b"
      },
      "execution_count": 43,
      "outputs": [
        {
          "output_type": "execute_result",
          "data": {
            "text/plain": [
              "['아버지', '가방']"
            ]
          },
          "metadata": {},
          "execution_count": 43
        }
      ]
    },
    {
      "cell_type": "code",
      "source": [
        "twitter.nouns(txt2)"
      ],
      "metadata": {
        "colab": {
          "base_uri": "https://localhost:8080/"
        },
        "id": "VqUhD9iAViT0",
        "outputId": "b980bca7-da8b-4200-ef67-c152ac54bd05"
      },
      "execution_count": 44,
      "outputs": [
        {
          "output_type": "execute_result",
          "data": {
            "text/plain": [
              "['지오디', '사랑', '해', '기억', '해']"
            ]
          },
          "metadata": {},
          "execution_count": 44
        }
      ]
    },
    {
      "cell_type": "code",
      "source": [
        "twitter.nouns(txt3)"
      ],
      "metadata": {
        "colab": {
          "base_uri": "https://localhost:8080/"
        },
        "id": "u8HLWKhlVjDx",
        "outputId": "f0ef2359-aadb-4bf2-e641-5825d446550b"
      },
      "execution_count": 45,
      "outputs": [
        {
          "output_type": "execute_result",
          "data": {
            "text/plain": [
              "['서울시장', '애인', '복지관']"
            ]
          },
          "metadata": {},
          "execution_count": 45
        }
      ]
    },
    {
      "cell_type": "markdown",
      "source": [
        "##대한민국 헌법 말뭉치 : kolaw\n",
        "    -국회 법안 말뭉치 : kobill"
      ],
      "metadata": {
        "id": "2uvtvuCNVmFM"
      }
    },
    {
      "cell_type": "code",
      "source": [
        "from konlpy.corpus import kolaw\n",
        "from konlpy.corpus import kobill"
      ],
      "metadata": {
        "id": "WbVg1YtHVu84"
      },
      "execution_count": 26,
      "outputs": []
    },
    {
      "cell_type": "code",
      "source": [
        "kolaw.fileids()   # 말뭉치 파일명 출력\n",
        "kobill.fileids()"
      ],
      "metadata": {
        "colab": {
          "base_uri": "https://localhost:8080/"
        },
        "id": "Az8hKcjdVwnc",
        "outputId": "483fe9a2-2417-4464-d494-d386eea09c29"
      },
      "execution_count": 27,
      "outputs": [
        {
          "output_type": "execute_result",
          "data": {
            "text/plain": [
              "['1809894.txt',\n",
              " '1809891.txt',\n",
              " '1809899.txt',\n",
              " '1809898.txt',\n",
              " '1809893.txt',\n",
              " '1809896.txt',\n",
              " '1809892.txt',\n",
              " '1809895.txt',\n",
              " '1809890.txt',\n",
              " '1809897.txt']"
            ]
          },
          "metadata": {},
          "execution_count": 27
        }
      ]
    },
    {
      "cell_type": "code",
      "source": [
        "docs = kolaw.open('constitution.txt').read()"
      ],
      "metadata": {
        "id": "3oL5pY4sVx9w"
      },
      "execution_count": 46,
      "outputs": []
    },
    {
      "cell_type": "code",
      "source": [
        "docs[:100]"
      ],
      "metadata": {
        "colab": {
          "base_uri": "https://localhost:8080/",
          "height": 35
        },
        "id": "zg5djtOYWxFw",
        "outputId": "92927a2a-cc30-45f5-e1a7-27e212e8c0b8"
      },
      "execution_count": 50,
      "outputs": [
        {
          "output_type": "execute_result",
          "data": {
            "text/plain": [
              "'대한민국헌법\\n\\n유구한 역사와 전통에 빛나는 우리 대한국민은 3·1운동으로 건립된 대한민국임시정부의 법통과 불의에 항거한 4·19민주이념을 계승하고, 조국의 민주개혁과 평화적 통일의'"
            ],
            "application/vnd.google.colaboratory.intrinsic+json": {
              "type": "string"
            }
          },
          "metadata": {},
          "execution_count": 50
        }
      ]
    },
    {
      "cell_type": "markdown",
      "source": [
        "### 대한민국 헌법 말뭉치에서 자주 언급되는 단어 분석"
      ],
      "metadata": {
        "id": "HJ7-BbX_XRYG"
      }
    },
    {
      "cell_type": "code",
      "source": [
        "from collections import Counter\n",
        "#collections - https://docs.python.org/ko/3/library/collections.html"
      ],
      "metadata": {
        "id": "A_nCgulpW0zo"
      },
      "execution_count": 52,
      "outputs": []
    },
    {
      "cell_type": "code",
      "source": [
        "words = twitter.nouns(docs)   # 품사 중 명사만 추출"
      ],
      "metadata": {
        "id": "5QEikM72XTzA"
      },
      "execution_count": 53,
      "outputs": []
    },
    {
      "cell_type": "code",
      "source": [
        "words[:10]"
      ],
      "metadata": {
        "colab": {
          "base_uri": "https://localhost:8080/"
        },
        "id": "_jb_RhlmXX2o",
        "outputId": "a7e0dfe3-9dac-445f-974a-e4935edfe7ac"
      },
      "execution_count": 55,
      "outputs": [
        {
          "output_type": "execute_result",
          "data": {
            "text/plain": [
              "['대한민국', '헌법', '유구', '역사', '전통', '우리', '국민', '운동', '건립', '대한민국']"
            ]
          },
          "metadata": {},
          "execution_count": 55
        }
      ]
    },
    {
      "cell_type": "code",
      "source": [
        "wc= Counter(words)# 단어별 빈도 분석"
      ],
      "metadata": {
        "id": "5M1IbDCUXeUd"
      },
      "execution_count": 56,
      "outputs": []
    },
    {
      "cell_type": "code",
      "source": [
        "#가장 빈도가 많은 단어 25개\n",
        "wc.most_common(25)"
      ],
      "metadata": {
        "colab": {
          "base_uri": "https://localhost:8080/"
        },
        "id": "cTAb4deyXg5A",
        "outputId": "113c277f-f9e0-416b-be8f-a99694db9f7b"
      },
      "execution_count": 57,
      "outputs": [
        {
          "output_type": "execute_result",
          "data": {
            "text/plain": [
              "[('제', 175),\n",
              " ('법률', 127),\n",
              " ('정', 89),\n",
              " ('수', 88),\n",
              " ('대통령', 83),\n",
              " ('국가', 73),\n",
              " ('국회', 68),\n",
              " ('국민', 61),\n",
              " ('관', 58),\n",
              " ('때', 55),\n",
              " ('헌법', 53),\n",
              " ('그', 47),\n",
              " ('이', 38),\n",
              " ('모든', 37),\n",
              " ('바', 37),\n",
              " ('위', 36),\n",
              " ('기타', 26),\n",
              " ('및', 25),\n",
              " ('사항', 23),\n",
              " ('권리', 21),\n",
              " ('안', 21),\n",
              " ('의원', 21),\n",
              " ('자유', 20),\n",
              " ('정부', 20),\n",
              " ('선거', 20)]"
            ]
          },
          "metadata": {},
          "execution_count": 57
        }
      ]
    },
    {
      "cell_type": "markdown",
      "source": [
        "### 추출된 명사에서 단어문자를 제외 한 단어 빈도 분석\n",
        "    -단어 문자 : 한 문자가 하나의 단어가 되는 문자\n"
      ],
      "metadata": {
        "id": "lF3dAa1HdbKb"
      }
    },
    {
      "cell_type": "code",
      "source": [
        "tokens = twitter.nouns(docs)"
      ],
      "metadata": {
        "id": "3kiGjuPjdchB"
      },
      "execution_count": 58,
      "outputs": []
    },
    {
      "cell_type": "code",
      "source": [
        "words = [t for t in tokens if len(t) >= 2]"
      ],
      "metadata": {
        "id": "_uCLDCDBde8m"
      },
      "execution_count": 59,
      "outputs": []
    },
    {
      "cell_type": "code",
      "source": [
        "words"
      ],
      "metadata": {
        "colab": {
          "base_uri": "https://localhost:8080/"
        },
        "id": "atzqyz_deBD2",
        "outputId": "856931c2-0823-412e-c247-ffdddb8d3db6"
      },
      "execution_count": 60,
      "outputs": [
        {
          "output_type": "execute_result",
          "data": {
            "text/plain": [
              "['대한민국',\n",
              " '헌법',\n",
              " '유구',\n",
              " '역사',\n",
              " '전통',\n",
              " '우리',\n",
              " '국민',\n",
              " '운동',\n",
              " '건립',\n",
              " '대한민국',\n",
              " '임시정부',\n",
              " '통과',\n",
              " '불의',\n",
              " '항거',\n",
              " '민주',\n",
              " '이념',\n",
              " '계승',\n",
              " '조국',\n",
              " '민주',\n",
              " '개혁',\n",
              " '평화',\n",
              " '통일',\n",
              " '사명',\n",
              " '각하',\n",
              " '정의',\n",
              " '인도',\n",
              " '동포',\n",
              " '로써',\n",
              " '민족',\n",
              " '단결',\n",
              " '공고',\n",
              " '모든',\n",
              " '사회',\n",
              " '폐습',\n",
              " '불의',\n",
              " '타파',\n",
              " '자율',\n",
              " '조화',\n",
              " '바탕',\n",
              " '자유민주',\n",
              " '질서',\n",
              " '더욱',\n",
              " '정치',\n",
              " '경제',\n",
              " '사회',\n",
              " '문화',\n",
              " '모든',\n",
              " '영역',\n",
              " '각인',\n",
              " '기회',\n",
              " '능력',\n",
              " '최고',\n",
              " '도로',\n",
              " '발휘',\n",
              " '자유',\n",
              " '권리',\n",
              " '책임',\n",
              " '의무',\n",
              " '완수',\n",
              " '국민',\n",
              " '생활',\n",
              " '향상',\n",
              " '기하',\n",
              " '항구',\n",
              " '세계',\n",
              " '평화',\n",
              " '인류',\n",
              " '공영',\n",
              " '이바지',\n",
              " '우리',\n",
              " '우리',\n",
              " '자손',\n",
              " '안전',\n",
              " '자유',\n",
              " '행복',\n",
              " '확보',\n",
              " '다짐',\n",
              " '제정',\n",
              " '개정',\n",
              " '헌법',\n",
              " '이제',\n",
              " '국회',\n",
              " '의결',\n",
              " '국민투표',\n",
              " '개정',\n",
              " '대한민국',\n",
              " '민주공화국',\n",
              " '대한민국',\n",
              " '주권',\n",
              " '국민',\n",
              " '모든',\n",
              " '권력',\n",
              " '국민',\n",
              " '대한민국',\n",
              " '국민',\n",
              " '요건',\n",
              " '법률',\n",
              " '국가',\n",
              " '법률',\n",
              " '재외국민',\n",
              " '보호',\n",
              " '의무',\n",
              " '대한민국',\n",
              " '영토',\n",
              " '한반도',\n",
              " '부속',\n",
              " '도서',\n",
              " '대한민국',\n",
              " '통일',\n",
              " '지향',\n",
              " '자유민주',\n",
              " '질서',\n",
              " '입각',\n",
              " '평화',\n",
              " '통일',\n",
              " '정책',\n",
              " '수립',\n",
              " '추진',\n",
              " '대한민국',\n",
              " '국제',\n",
              " '평화',\n",
              " '유지',\n",
              " '노력',\n",
              " '침략',\n",
              " '전쟁',\n",
              " '부인',\n",
              " '국군',\n",
              " '국가',\n",
              " '안전보장',\n",
              " '국토',\n",
              " '방위',\n",
              " '의무',\n",
              " '수행',\n",
              " '사명',\n",
              " '정치',\n",
              " '중립성',\n",
              " '준수',\n",
              " '헌법',\n",
              " '체결',\n",
              " '공포',\n",
              " '조약',\n",
              " '일반',\n",
              " '승인',\n",
              " '국제',\n",
              " '법규',\n",
              " '국내법',\n",
              " '효력',\n",
              " '외국인',\n",
              " '국제',\n",
              " '조약',\n",
              " '지위',\n",
              " '보장',\n",
              " '공무원',\n",
              " '국민',\n",
              " '전체',\n",
              " '대한',\n",
              " '봉사자',\n",
              " '국민',\n",
              " '대하',\n",
              " '책임',\n",
              " '공무원',\n",
              " '신분',\n",
              " '정치',\n",
              " '중립성',\n",
              " '법률',\n",
              " '보장',\n",
              " '정당',\n",
              " '설립',\n",
              " '자유',\n",
              " '복수정당제',\n",
              " '보장',\n",
              " '정당',\n",
              " '목적',\n",
              " '조직',\n",
              " '활동',\n",
              " '민주',\n",
              " '국민',\n",
              " '정치',\n",
              " '의사',\n",
              " '형성',\n",
              " '참여',\n",
              " '조직',\n",
              " '정당',\n",
              " '법률',\n",
              " '국가',\n",
              " '보호',\n",
              " '국가',\n",
              " '법률',\n",
              " '정당',\n",
              " '운영',\n",
              " '자금',\n",
              " '보조',\n",
              " '정당',\n",
              " '목적',\n",
              " '활동',\n",
              " '민주',\n",
              " '질서',\n",
              " '위배',\n",
              " '정부',\n",
              " '헌법재판소',\n",
              " '해산',\n",
              " '제소',\n",
              " '정당',\n",
              " '헌법재판소',\n",
              " '심판',\n",
              " '해산',\n",
              " '국가',\n",
              " '전통문화',\n",
              " '계승',\n",
              " '발전',\n",
              " '민족',\n",
              " '문화',\n",
              " '창달',\n",
              " '노력',\n",
              " '국민',\n",
              " '권리',\n",
              " '의무',\n",
              " '모든',\n",
              " '국민',\n",
              " '인간',\n",
              " '존엄',\n",
              " '가치',\n",
              " '가지',\n",
              " '행복',\n",
              " '추구',\n",
              " '권리',\n",
              " '국가',\n",
              " '개인',\n",
              " '불가침',\n",
              " '기본',\n",
              " '인권',\n",
              " '확인',\n",
              " '보장',\n",
              " '의무',\n",
              " '모든',\n",
              " '국민',\n",
              " '누구',\n",
              " '성별',\n",
              " '종교',\n",
              " '사회',\n",
              " '신분',\n",
              " '정치',\n",
              " '경제',\n",
              " '사회',\n",
              " '문화',\n",
              " '생활',\n",
              " '모든',\n",
              " '영역',\n",
              " '차별',\n",
              " '사회',\n",
              " '특수',\n",
              " '계급',\n",
              " '제도',\n",
              " '인정',\n",
              " '형태',\n",
              " '창설',\n",
              " '훈장',\n",
              " '영전',\n",
              " '효력',\n",
              " '특권',\n",
              " '모든',\n",
              " '국민',\n",
              " '신체',\n",
              " '자유',\n",
              " '누구',\n",
              " '법률',\n",
              " '체포',\n",
              " '구속',\n",
              " '압수',\n",
              " '수색',\n",
              " '심문',\n",
              " '법률',\n",
              " '절차',\n",
              " '처벌',\n",
              " '보안처분',\n",
              " '강제',\n",
              " '노역',\n",
              " '모든',\n",
              " '국민',\n",
              " '고문',\n",
              " '형사',\n",
              " '자기',\n",
              " '진술',\n",
              " '강요',\n",
              " '체포',\n",
              " '구속',\n",
              " '압수',\n",
              " '수색',\n",
              " '절차',\n",
              " '검사',\n",
              " '신청',\n",
              " '법관',\n",
              " '발부',\n",
              " '영장',\n",
              " '제시',\n",
              " '다만',\n",
              " '현행범인',\n",
              " '경우',\n",
              " '장기',\n",
              " '이상',\n",
              " '해당',\n",
              " '도피',\n",
              " '증거',\n",
              " '염려',\n",
              " '사후',\n",
              " '영장',\n",
              " '청구',\n",
              " '누구',\n",
              " '체포',\n",
              " '구속',\n",
              " '당한',\n",
              " '즉시',\n",
              " '변호인',\n",
              " '조력',\n",
              " '권리',\n",
              " '다만',\n",
              " '형사',\n",
              " '피고인',\n",
              " '스스로',\n",
              " '변호인',\n",
              " '법률',\n",
              " '국가',\n",
              " '변호인',\n",
              " '누구',\n",
              " '체포',\n",
              " '구속',\n",
              " '이유',\n",
              " '변호인',\n",
              " '조력',\n",
              " '권리',\n",
              " '고지',\n",
              " '체포',\n",
              " '구속',\n",
              " '체포',\n",
              " '구속',\n",
              " '당한',\n",
              " '자의',\n",
              " '가족',\n",
              " '법률',\n",
              " '이유',\n",
              " '일시',\n",
              " '장소',\n",
              " '지체',\n",
              " '통지',\n",
              " '누구',\n",
              " '체포',\n",
              " '구속',\n",
              " '당한',\n",
              " '부의',\n",
              " '심사',\n",
              " '법원',\n",
              " '청구',\n",
              " '권리',\n",
              " '피고인',\n",
              " '자백',\n",
              " '고문',\n",
              " '폭행',\n",
              " '협박',\n",
              " '구속',\n",
              " '장기',\n",
              " '기타',\n",
              " '방법',\n",
              " '자의',\n",
              " '진술',\n",
              " '인정',\n",
              " '정식',\n",
              " '재판',\n",
              " '피고인',\n",
              " '자백',\n",
              " '증거',\n",
              " '유죄',\n",
              " '증거',\n",
              " '이유',\n",
              " '처벌',\n",
              " '모든',\n",
              " '국민',\n",
              " '행위',\n",
              " '법률',\n",
              " '범죄',\n",
              " '구성',\n",
              " '행위',\n",
              " '범죄',\n",
              " '대하',\n",
              " '거듭',\n",
              " '처벌',\n",
              " '모든',\n",
              " '국민',\n",
              " '소급입법',\n",
              " '참정권',\n",
              " '제한',\n",
              " '재산권',\n",
              " '박탈',\n",
              " '모든',\n",
              " '국민',\n",
              " '자기',\n",
              " '행위',\n",
              " '친족',\n",
              " '행위',\n",
              " '불이익',\n",
              " '처우',\n",
              " '모든',\n",
              " '국민',\n",
              " '거주',\n",
              " '이전',\n",
              " '자유',\n",
              " '모든',\n",
              " '국민',\n",
              " '직업',\n",
              " '선택',\n",
              " '자유',\n",
              " '모든',\n",
              " '국민',\n",
              " '주거',\n",
              " '자유',\n",
              " '침해',\n",
              " '주거',\n",
              " '대한',\n",
              " '압수',\n",
              " '수색',\n",
              " '검사',\n",
              " '신청',\n",
              " '법관',\n",
              " '발부',\n",
              " '영장',\n",
              " '제시',\n",
              " '모든',\n",
              " '국민',\n",
              " '사생활',\n",
              " '비밀',\n",
              " '자유',\n",
              " '침해',\n",
              " '모든',\n",
              " '국민',\n",
              " '통신',\n",
              " '비밀',\n",
              " '침해',\n",
              " '모든',\n",
              " '국민',\n",
              " '양심',\n",
              " '자유',\n",
              " '모든',\n",
              " '국민',\n",
              " '종교',\n",
              " '자유',\n",
              " '국교',\n",
              " '인정',\n",
              " '종교',\n",
              " '정치',\n",
              " '분리',\n",
              " '모든',\n",
              " '국민',\n",
              " '언론',\n",
              " '출판',\n",
              " '자유',\n",
              " '집회',\n",
              " '결사',\n",
              " '자유',\n",
              " '언론',\n",
              " '출판',\n",
              " '대한',\n",
              " '허가',\n",
              " '검열',\n",
              " '집회',\n",
              " '결사',\n",
              " '대한',\n",
              " '허가',\n",
              " '인정',\n",
              " '통신',\n",
              " '방송',\n",
              " '시설',\n",
              " '기준',\n",
              " '신문',\n",
              " '기능',\n",
              " '보장',\n",
              " '사항',\n",
              " '법률',\n",
              " '언론',\n",
              " '출판',\n",
              " '타인',\n",
              " '명예',\n",
              " '권리',\n",
              " '공중도덕',\n",
              " '사회',\n",
              " '윤리',\n",
              " '침해',\n",
              " '언론',\n",
              " '출판',\n",
              " '타인',\n",
              " '명예',\n",
              " '권리',\n",
              " '침해',\n",
              " '피해자',\n",
              " '대한',\n",
              " '피해',\n",
              " '배상',\n",
              " '청구',\n",
              " '모든',\n",
              " '국민',\n",
              " '학문',\n",
              " '예술',\n",
              " '자유',\n",
              " '저작자',\n",
              " '발명가',\n",
              " '과학기술',\n",
              " '예술가',\n",
              " '권리',\n",
              " '법률',\n",
              " '로써',\n",
              " '보호',\n",
              " '모든',\n",
              " '국민',\n",
              " '재산권',\n",
              " '보장',\n",
              " '내용',\n",
              " '한계',\n",
              " '법률',\n",
              " '재산권',\n",
              " '행사',\n",
              " '복리',\n",
              " '공공필요',\n",
              " '재산권',\n",
              " '수용',\n",
              " '사용',\n",
              " '제한',\n",
              " '대한',\n",
              " '보상',\n",
              " '법률',\n",
              " '로써',\n",
              " '보상',\n",
              " '지급',\n",
              " '모든',\n",
              " '국민',\n",
              " '법률',\n",
              " '선거권',\n",
              " '모든',\n",
              " '국민',\n",
              " '법률',\n",
              " '공무',\n",
              " '담임',\n",
              " '모든',\n",
              " '국민',\n",
              " '법률',\n",
              " '국가',\n",
              " '기관',\n",
              " '문서',\n",
              " '청원',\n",
              " '권리',\n",
              " '국가',\n",
              " '청원',\n",
              " '대하',\n",
              " '심사',\n",
              " '의무',\n",
              " '모든',\n",
              " '국민',\n",
              " '헌법',\n",
              " '법률',\n",
              " '법관',\n",
              " '법률',\n",
              " '재판',\n",
              " '권리',\n",
              " '군인',\n",
              " '군무원',\n",
              " '국민',\n",
              " '대한민국',\n",
              " '영역',\n",
              " '군사',\n",
              " '기밀',\n",
              " '초병',\n",
              " '초소',\n",
              " '유독',\n",
              " '음식물',\n",
              " '공급',\n",
              " '포로',\n",
              " '군용',\n",
              " '법률',\n",
              " '경우',\n",
              " '비상계엄',\n",
              " '선포',\n",
              " '경우',\n",
              " '제외',\n",
              " '군사법원',\n",
              " '재판',\n",
              " '모든',\n",
              " '국민',\n",
              " '재판',\n",
              " '권리',\n",
              " '형사',\n",
              " '피고인',\n",
              " '이유',\n",
              " '지체',\n",
              " '공개',\n",
              " '재판',\n",
              " '권리',\n",
              " '형사',\n",
              " '피고인',\n",
              " '유죄',\n",
              " '판결',\n",
              " '확정',\n",
              " '무죄',\n",
              " '추정',\n",
              " '형사',\n",
              " '피해자',\n",
              " '법률',\n",
              " '사건',\n",
              " '재판',\n",
              " '절차',\n",
              " '진술',\n",
              " '형사',\n",
              " '피의자',\n",
              " '형사',\n",
              " '피고인',\n",
              " '구금',\n",
              " '자가',\n",
              " '법률',\n",
              " '불기소처분',\n",
              " '무죄판결',\n",
              " '법률',\n",
              " '국가',\n",
              " '보상',\n",
              " '청구',\n",
              " '공무원',\n",
              " '직무',\n",
              " '불법행위',\n",
              " '손해',\n",
              " '국민',\n",
              " '법률',\n",
              " '국가',\n",
              " '단체',\n",
              " '배상',\n",
              " '청구',\n",
              " '경우',\n",
              " '공무원',\n",
              " '자신',\n",
              " '책임',\n",
              " '면제',\n",
              " '군인',\n",
              " '군무원',\n",
              " '경찰',\n",
              " '공무원',\n",
              " '기타',\n",
              " '법률',\n",
              " '자가',\n",
              " '전투',\n",
              " '훈련',\n",
              " '직무',\n",
              " '집행',\n",
              " '관련',\n",
              " '손해',\n",
              " '대하',\n",
              " '법률',\n",
              " '보상',\n",
              " '국가',\n",
              " '단체',\n",
              " '공무원',\n",
              " '직무',\n",
              " '불법행위',\n",
              " '배상',\n",
              " '청구',\n",
              " '타인',\n",
              " '범죄',\n",
              " '행위',\n",
              " '생명',\n",
              " '신체',\n",
              " '대한',\n",
              " '피해',\n",
              " '국민',\n",
              " '법률',\n",
              " '국가',\n",
              " '로부터',\n",
              " '구조',\n",
              " '모든',\n",
              " '국민',\n",
              " '능력',\n",
              " '교육',\n",
              " '권리',\n",
              " '모든',\n",
              " '국민',\n",
              " '보호',\n",
              " '자녀',\n",
              " '초등교육',\n",
              " '법률',\n",
              " '교육',\n",
              " '의무',\n",
              " '의무교육',\n",
              " '무상',\n",
              " '교육',\n",
              " '자주성',\n",
              " '전문성',\n",
              " '정치',\n",
              " '중립성',\n",
              " '대학',\n",
              " '자율성',\n",
              " '법률',\n",
              " '보장',\n",
              " '국가',\n",
              " '평생교육',\n",
              " '진흥',\n",
              " '학교',\n",
              " '교육',\n",
              " '평생교육',\n",
              " '포함',\n",
              " '교육제도',\n",
              " '운영',\n",
              " '교육재정',\n",
              " '교원',\n",
              " '지위',\n",
              " '기본',\n",
              " '사항',\n",
              " '법률',\n",
              " '모든',\n",
              " '국민',\n",
              " '근로',\n",
              " '권리',\n",
              " '국가',\n",
              " '사회',\n",
              " '경제',\n",
              " '방법',\n",
              " '근로자',\n",
              " '고용',\n",
              " '증진',\n",
              " '적정',\n",
              " '임금',\n",
              " '보장',\n",
              " '노력',\n",
              " '법률',\n",
              " '최저임금제',\n",
              " '시행',\n",
              " '모든',\n",
              " '국민',\n",
              " '근로',\n",
              " '의무',\n",
              " '국가',\n",
              " '근로',\n",
              " '의무',\n",
              " '내용',\n",
              " '조건',\n",
              " '민주주의',\n",
              " '원칙',\n",
              " '법률',\n",
              " '근로',\n",
              " '조건',\n",
              " '기준',\n",
              " '인간',\n",
              " '존엄성',\n",
              " '보장',\n",
              " '법률',\n",
              " '여자',\n",
              " '근로',\n",
              " '보호',\n",
              " '고용',\n",
              " '임금',\n",
              " '근로',\n",
              " '조건',\n",
              " '차별',\n",
              " '연소자',\n",
              " '근로',\n",
              " '보호',\n",
              " '국가',\n",
              " '유공',\n",
              " '상이',\n",
              " '군경',\n",
              " '전몰',\n",
              " '경의',\n",
              " '유가족',\n",
              " '법률',\n",
              " '우선',\n",
              " '근로',\n",
              " '기회',\n",
              " '부여',\n",
              " '근로자',\n",
              " '근로',\n",
              " '조건',\n",
              " '향상',\n",
              " '자주',\n",
              " '단결권',\n",
              " '단체교섭권',\n",
              " '단체행동권',\n",
              " '공무원',\n",
              " '근로자',\n",
              " '법률',\n",
              " '단결권',\n",
              " '단체교섭권',\n",
              " '단체행동권',\n",
              " '법률',\n",
              " '방위산업',\n",
              " '종사',\n",
              " '근로자',\n",
              " '단체행동권',\n",
              " '법률',\n",
              " '제한',\n",
              " '거나',\n",
              " '인정',\n",
              " '모든',\n",
              " '국민',\n",
              " '인간',\n",
              " '다운',\n",
              " '생활',\n",
              " '권리',\n",
              " '국가',\n",
              " '사회보장',\n",
              " '사회',\n",
              " '복지',\n",
              " '증진',\n",
              " '노력',\n",
              " '의무',\n",
              " '국가',\n",
              " '여자',\n",
              " '복지',\n",
              " '권익',\n",
              " '향상',\n",
              " '노력',\n",
              " '국가',\n",
              " '노인',\n",
              " '청소년',\n",
              " '복지',\n",
              " '향상',\n",
              " '정책',\n",
              " '실시',\n",
              " '의무',\n",
              " '신체',\n",
              " '장애자',\n",
              " '질병',\n",
              " '노령',\n",
              " '기타',\n",
              " '사유',\n",
              " '생활',\n",
              " '능력',\n",
              " '국민',\n",
              " '법률',\n",
              " '국가',\n",
              " '보호',\n",
              " '국가',\n",
              " '재해',\n",
              " '예방',\n",
              " '위험',\n",
              " '국민',\n",
              " '보호',\n",
              " '노력',\n",
              " '모든',\n",
              " '국민',\n",
              " '환경',\n",
              " '생활',\n",
              " '권리',\n",
              " '가지',\n",
              " '국가',\n",
              " '국민',\n",
              " '환경보전',\n",
              " '노력',\n",
              " '환경권',\n",
              " '내용',\n",
              " '행사',\n",
              " '법률',\n",
              " '국가',\n",
              " '주택',\n",
              " '개발',\n",
              " '정책',\n",
              " '모든',\n",
              " '국민',\n",
              " '주거',\n",
              " '생활',\n",
              " '노력',\n",
              " '혼인',\n",
              " '가족',\n",
              " '생활',\n",
              " '개인',\n",
              " '존엄',\n",
              " '양성',\n",
              " '평등',\n",
              " '기초',\n",
              " '성립',\n",
              " '유지',\n",
              " '국가',\n",
              " '보장',\n",
              " '국가',\n",
              " '모성',\n",
              " '보호',\n",
              " '노력',\n",
              " '모든',\n",
              " '국민',\n",
              " '보건',\n",
              " '국가',\n",
              " '보호',\n",
              " '국민',\n",
              " '자유',\n",
              " '권리',\n",
              " '헌법',\n",
              " '열거',\n",
              " '이유',\n",
              " '경시',\n",
              " '국민',\n",
              " '모든',\n",
              " '자유',\n",
              " '권리',\n",
              " '국가',\n",
              " '안전보장',\n",
              " '질서',\n",
              " '유지',\n",
              " '복리',\n",
              " '경우',\n",
              " '법률',\n",
              " '로써',\n",
              " '제한',\n",
              " '제한',\n",
              " '경우',\n",
              " '자유',\n",
              " '권리',\n",
              " '본질',\n",
              " '내용',\n",
              " '침해',\n",
              " '모든',\n",
              " '국민',\n",
              " '법률',\n",
              " '납세',\n",
              " '의무',\n",
              " '모든',\n",
              " '국민',\n",
              " '법률',\n",
              " '국방',\n",
              " '의무',\n",
              " '누구',\n",
              " '병역의무',\n",
              " '이행',\n",
              " '불이익',\n",
              " '처우',\n",
              " '국회',\n",
              " '입법권',\n",
              " '국회',\n",
              " '국회',\n",
              " '국민',\n",
              " '보통',\n",
              " '평등',\n",
              " '직접',\n",
              " '비밀선거',\n",
              " '선출',\n",
              " '국회의원',\n",
              " '구성',\n",
              " '국회의원',\n",
              " '법률',\n",
              " '이상',\n",
              " '국회의원',\n",
              " '선거구',\n",
              " '비례대표제',\n",
              " '기타',\n",
              " '선거',\n",
              " '사항',\n",
              " '법률',\n",
              " '국회의원',\n",
              " '임기',\n",
              " '국회의원',\n",
              " '법률',\n",
              " '국회의원',\n",
              " '현행범인',\n",
              " '경우',\n",
              " '제외',\n",
              " '국회',\n",
              " '동의',\n",
              " '체포',\n",
              " '구금',\n",
              " '국회의원',\n",
              " '기전',\n",
              " '체포',\n",
              " '구금',\n",
              " '현행범인',\n",
              " '국회',\n",
              " '요구',\n",
              " '석방',\n",
              " '국회의원',\n",
              " '국회',\n",
              " '직무',\n",
              " '발언',\n",
              " '표결',\n",
              " '국회',\n",
              " '책임',\n",
              " '지지',\n",
              " '국회의원',\n",
              " '청렴',\n",
              " '의무',\n",
              " '국회의원',\n",
              " '국가',\n",
              " '이익',\n",
              " '양심',\n",
              " '직무',\n",
              " '국회의원',\n",
              " '지위',\n",
              " '남용',\n",
              " '국가',\n",
              " '단체',\n",
              " '기업체',\n",
              " '계약',\n",
              " '처분',\n",
              " '재산',\n",
              " '상의',\n",
              " '권리',\n",
              " '이익',\n",
              " '직위',\n",
              " '취득',\n",
              " '거나',\n",
              " '타인',\n",
              " '취득',\n",
              " '알선',\n",
              " ...]"
            ]
          },
          "metadata": {},
          "execution_count": 60
        }
      ]
    },
    {
      "cell_type": "code",
      "source": [
        "wc= Counter(words)"
      ],
      "metadata": {
        "id": "sK9HmEaOeE08"
      },
      "execution_count": 61,
      "outputs": []
    },
    {
      "cell_type": "markdown",
      "source": [
        "### 대한민국 헌법 말뭉치를 이용해서 워드클라우드로 시각화"
      ],
      "metadata": {
        "id": "djSU3XQmddgS"
      }
    },
    {
      "cell_type": "code",
      "source": [
        "from wordcloud import WordCloud"
      ],
      "metadata": {
        "id": "JPMv0KIueJ4q"
      },
      "execution_count": 62,
      "outputs": []
    },
    {
      "cell_type": "code",
      "source": [
        "import matplotlib.pyplot as plt"
      ],
      "metadata": {
        "id": "1yiy5xFseKw6"
      },
      "execution_count": 63,
      "outputs": []
    },
    {
      "cell_type": "code",
      "source": [
        "wc = dict(wc.most_common(25))"
      ],
      "metadata": {
        "id": "hL_uOoGMeLpy"
      },
      "execution_count": 64,
      "outputs": []
    },
    {
      "cell_type": "code",
      "source": [
        "wc"
      ],
      "metadata": {
        "colab": {
          "base_uri": "https://localhost:8080/"
        },
        "id": "UtlWeSINeMc6",
        "outputId": "bd9d4def-7102-43a3-c08b-665b64c772c1"
      },
      "execution_count": 65,
      "outputs": [
        {
          "output_type": "execute_result",
          "data": {
            "text/plain": [
              "{'법률': 127,\n",
              " '대통령': 83,\n",
              " '국가': 73,\n",
              " '국회': 68,\n",
              " '국민': 61,\n",
              " '헌법': 53,\n",
              " '모든': 37,\n",
              " '기타': 26,\n",
              " '사항': 23,\n",
              " '권리': 21,\n",
              " '의원': 21,\n",
              " '자유': 20,\n",
              " '정부': 20,\n",
              " '선거': 20,\n",
              " '임명': 20,\n",
              " '직무': 19,\n",
              " '국무총리': 19,\n",
              " '경제': 18,\n",
              " '의무': 18,\n",
              " '조직': 18,\n",
              " '국회의원': 18,\n",
              " '임기': 18,\n",
              " '의결': 17,\n",
              " '공무원': 17,\n",
              " '경우': 17}"
            ]
          },
          "metadata": {},
          "execution_count": 65
        }
      ]
    },
    {
      "cell_type": "code",
      "source": [
        "import numpy as np\n",
        "from PIL import Image"
      ],
      "metadata": {
        "id": "_EfMweWwePk6"
      },
      "execution_count": 77,
      "outputs": []
    },
    {
      "cell_type": "code",
      "source": [
        "korfont = '나눔손글씨 손편지체.ttf'"
      ],
      "metadata": {
        "id": "ljEbO6wsgb8K"
      },
      "execution_count": 85,
      "outputs": []
    },
    {
      "cell_type": "code",
      "source": [
        "#돌고래 모양의 마스크를 사용\n",
        "mask_path = '다운로드.png'\n",
        "mask = np.array(Image.open(mask_path))"
      ],
      "metadata": {
        "id": "ml5JXToOgoDi"
      },
      "execution_count": 81,
      "outputs": []
    },
    {
      "cell_type": "code",
      "source": [
        "wcimg = WordCloud(background_color = 'white', mask = mask, font_path = korfont).generate_from_frequencies(wc)\n",
        "plt.figure(figsize=(10,10))\n",
        "plt.imshow(wcimg, interpolation = 'bilinear')\n",
        "plt.axis('off')"
      ],
      "metadata": {
        "colab": {
          "base_uri": "https://localhost:8080/",
          "height": 593
        },
        "id": "QEX7GLSfg3BC",
        "outputId": "29da5fef-eb0b-43a5-ef58-393a19962428"
      },
      "execution_count": 87,
      "outputs": [
        {
          "output_type": "execute_result",
          "data": {
            "text/plain": [
              "(-0.5, 499.5, 499.5, -0.5)"
            ]
          },
          "metadata": {},
          "execution_count": 87
        },
        {
          "output_type": "display_data",
          "data": {
            "text/plain": [
              "<Figure size 720x720 with 1 Axes>"
            ],
            "image/png": "[encoded data removed]"
          },
          "metadata": {
            "needs_background": "light"
          }
        }
      ]
    },
    {
      "cell_type": "markdown",
      "source": [
        "### 영화 스크립트(타짜)에서 2자 이상 단어 추출하기"
      ],
      "metadata": {
        "id": "ssePllcusggg"
      }
    },
    {
      "cell_type": "code",
      "source": [
        "with open('타짜.txt') as f:\n",
        "    docs1 = f.read()"
      ],
      "metadata": {
        "id": "hMEFlj_lshhu"
      },
      "execution_count": 103,
      "outputs": []
    },
    {
      "cell_type": "code",
      "source": [
        "tokens1 = twitter.nouns(docs1)"
      ],
      "metadata": {
        "id": "kylTydinsjLN"
      },
      "execution_count": 104,
      "outputs": []
    },
    {
      "cell_type": "code",
      "source": [
        "#단문자 단어 제거\n",
        "words1 = [t for t in tokens1 if len(t) > 1]"
      ],
      "metadata": {
        "id": "pwTV_yilsoVp"
      },
      "execution_count": 105,
      "outputs": []
    },
    {
      "cell_type": "code",
      "source": [
        "wc1 = Counter(words1)"
      ],
      "metadata": {
        "id": "7BYtKYPIspNV"
      },
      "execution_count": 106,
      "outputs": []
    },
    {
      "cell_type": "code",
      "source": [
        "wc1 = dict(wc1.most_common(125))"
      ],
      "metadata": {
        "id": "oFx8i1wasqBa"
      },
      "execution_count": 107,
      "outputs": []
    },
    {
      "cell_type": "code",
      "source": [
        "mask_path = 'dolphin.jpg'\n",
        "mask = np.array(Image.open(mask_path))"
      ],
      "metadata": {
        "id": "t9BN6vyxsrmq"
      },
      "execution_count": 108,
      "outputs": []
    },
    {
      "cell_type": "code",
      "source": [
        "wcimg1 = WordCloud(background_color = 'white', mask = mask, font_path = korfont).generate_from_frequencies(wc1)\n",
        "plt.figure(figsize=(10,10))\n",
        "plt.imshow(wcimg1, interpolation = 'bilinear')\n",
        "plt.axis('off')"
      ],
      "metadata": {
        "colab": {
          "base_uri": "https://localhost:8080/",
          "height": 593
        },
        "id": "EPwzggPistJN",
        "outputId": "02bf656a-d655-476e-82d3-94239ad34152"
      },
      "execution_count": 109,
      "outputs": [
        {
          "output_type": "execute_result",
          "data": {
            "text/plain": [
              "(-0.5, 481.5, 625.5, -0.5)"
            ]
          },
          "metadata": {},
          "execution_count": 109
        },
        {
          "output_type": "display_data",
          "data": {
            "text/plain": [
              "<Figure size 720x720 with 1 Axes>"
            ],
            "image/png": "[encoded data removed]"
          },
          "metadata": {
            "needs_background": "light"
          }
        }
      ]
    }
  ]
}