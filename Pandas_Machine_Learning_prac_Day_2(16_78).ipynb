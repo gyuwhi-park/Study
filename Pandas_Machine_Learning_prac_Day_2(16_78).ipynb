{
  "nbformat": 4,
  "nbformat_minor": 0,
  "metadata": {
    "colab": {
      "name": "Pandas Machine Learning prac Day 2(16~78).ipynb",
      "provenance": [],
      "collapsed_sections": []
    },
    "kernelspec": {
      "name": "python3",
      "display_name": "Python 3"
    },
    "language_info": {
      "name": "python"
    }
  },
  "cells": [
    {
      "cell_type": "markdown",
      "source": [
        "**Day 2**\n",
        "\n",
        "Book : 파이썬 머신러닝 판다스 데이터 분석\n",
        "\n",
        "page : 16 ~ 78"
      ],
      "metadata": {
        "id": "eFzHXoZT7q2S"
      }
    },
    {
      "cell_type": "markdown",
      "source": [
        "part2.데이터 입출력\n",
        "\n",
        "1. 외부 파일 읽어오기 - csv, json, excel\n",
        "\n",
        "2. 웹에서 가져오기 - 표, 웹 스크래핑\n",
        "\n",
        "3. api - 미 실습(구글 geocoding)\n",
        "\n",
        "4. 데이터 저장 - csv, json, excel, excel multi sheets"
      ],
      "metadata": {
        "id": "zebOkY1Knc1g"
      }
    },
    {
      "cell_type": "code",
      "execution_count": 66,
      "metadata": {
        "id": "Rf7dFkgx6mn1"
      },
      "outputs": [],
      "source": [
        "import pandas as pd     #통계 처리용\n",
        "import numpy as np      #파이썬 기반 수치 해석 라이브러리, 특히 다차원 배열 / 배열 연산 수행(선형대수 연산에 필요)\n",
        "import matplotlib       #파이썬 기반 2D 시각화 도구(그래프, 차트 등)\n",
        "import scipy            #과학용 연산에 필요한 패킷 라이브러리(미적분, 선형대수, 행렬, 방정식 계산)\n",
        "import sklearn          #scikit-learn / 머신러닝 파이썬 라이브러리(회귀분석, 분류, 군집 등 머신러닝 모형 제공)"
      ]
    },
    {
      "cell_type": "code",
      "source": [
        "#p16 / ex. 1-6\n",
        "df = pd.DataFrame([[15,'Male', '덕영중'], [17, 'Female', '수리중']],\n",
        "                  index=['준서', '예은'],\n",
        "                  columns=['나이', '성별', '학교'])\n",
        "\n",
        "print(df)\n",
        "print()\n",
        "\n",
        "df.rename(columns={'나이':'연령', '성별':'남녀', '학교':'소속'}, inplace=True)\n",
        "\n",
        "df.rename(index={'준서':'학생1', '예은':'학생2'}, inplace=True)\n",
        "\n",
        "print(df)"
      ],
      "metadata": {
        "id": "Rq3Qf_iL7Tm4",
        "colab": {
          "base_uri": "https://localhost:8080/"
        },
        "outputId": "f0b44144-9df8-4355-8d59-8270b36c78f3"
      },
      "execution_count": 2,
      "outputs": [
        {
          "output_type": "stream",
          "name": "stdout",
          "text": [
            "    나이      성별   학교\n",
            "준서  15    Male  덕영중\n",
            "예은  17  Female  수리중\n",
            "\n",
            "     연령      남녀   소속\n",
            "학생1  15    Male  덕영중\n",
            "학생2  17  Female  수리중\n"
          ]
        }
      ]
    },
    {
      "cell_type": "code",
      "source": [
        "#p18 / ex 1-7\n",
        "\n",
        "exam_data = {'math' : [90, 80, 70], 'Eng':[98,89,95], 'Music':[85,95,100], 'Exer':[100,90,90]}\n",
        " \n",
        "df = pd.DataFrame(exam_data, index=['seo', 'woo', 'in'])\n",
        "print(df)\n",
        "print()\n",
        "\n",
        "df2=df[:]\n",
        "df2.drop('woo',axis=0, inplace=True)\n",
        "print(df2)\n",
        "print()\n",
        "\n",
        "df3=df[:]\n",
        "df3.drop(['woo','in'], axis=0, inplace=True)\n",
        "print(df3)"
      ],
      "metadata": {
        "colab": {
          "base_uri": "https://localhost:8080/"
        },
        "id": "H2pxe4Be_XtO",
        "outputId": "090434ae-5d6f-4f62-c43c-bb113a8e2242"
      },
      "execution_count": 11,
      "outputs": [
        {
          "output_type": "stream",
          "name": "stdout",
          "text": [
            "     math  Eng  Music  Exer\n",
            "seo    90   98     85   100\n",
            "woo    80   89     95    90\n",
            "in     70   95    100    90\n",
            "\n",
            "     math  Eng  Music  Exer\n",
            "seo    90   98     85   100\n",
            "in     70   95    100    90\n",
            "\n",
            "     math  Eng  Music  Exer\n",
            "seo    90   98     85   100\n"
          ]
        },
        {
          "output_type": "stream",
          "name": "stderr",
          "text": [
            "/usr/local/lib/python3.7/dist-packages/pandas/core/frame.py:4913: SettingWithCopyWarning: \n",
            "A value is trying to be set on a copy of a slice from a DataFrame\n",
            "\n",
            "See the caveats in the documentation: https://pandas.pydata.org/pandas-docs/stable/user_guide/indexing.html#returning-a-view-versus-a-copy\n",
            "  errors=errors,\n",
            "/usr/local/lib/python3.7/dist-packages/pandas/core/frame.py:4913: SettingWithCopyWarning: \n",
            "A value is trying to be set on a copy of a slice from a DataFrame\n",
            "\n",
            "See the caveats in the documentation: https://pandas.pydata.org/pandas-docs/stable/user_guide/indexing.html#returning-a-view-versus-a-copy\n",
            "  errors=errors,\n"
          ]
        }
      ]
    },
    {
      "cell_type": "code",
      "source": [
        "#p20 / ex1-8\n",
        "\n",
        "exam_data = {'math' : [90, 80, 70], 'Eng' : [98,89,95],\n",
        "             'Music':[85,95,100], 'Exer' : [100, 90, 90]}\n",
        "\n",
        "df = pd.DataFrame(exam_data, index=['seo', 'woo', 'in'])\n",
        "print(df)\n",
        "print()\n",
        "\n",
        "df4 = df.copy()\n",
        "df4.drop('math', axis=1, inplace=True)\n",
        "print(df4)\n",
        "print()\n",
        "\n",
        "df5=df.copy()\n",
        "df5.drop(['Eng','Music'], axis=1, inplace=True)\n",
        "print(df5)"
      ],
      "metadata": {
        "colab": {
          "base_uri": "https://localhost:8080/"
        },
        "id": "dGJ52n1aAbM8",
        "outputId": "50fc31ff-c8cd-4e0a-df79-67587108f3d8"
      },
      "execution_count": 4,
      "outputs": [
        {
          "output_type": "stream",
          "name": "stdout",
          "text": [
            "     math  Eng  Music  Exer\n",
            "seo    90   98     85   100\n",
            "woo    80   89     95    90\n",
            "in     70   95    100    90\n",
            "\n",
            "     Eng  Music  Exer\n",
            "seo   98     85   100\n",
            "woo   89     95    90\n",
            "in    95    100    90\n",
            "\n",
            "     math  Exer\n",
            "seo    90   100\n",
            "woo    80    90\n",
            "in     70    90\n"
          ]
        }
      ]
    },
    {
      "cell_type": "code",
      "source": [
        "#p21 / ex 1-9\n",
        "exam_data = {'math' : [90, 80, 70], 'Eng' : [98,89,95],\n",
        "             'Music':[85,95,100], 'Exer' : [100, 90, 90]}\n",
        "df = pd.DataFrame(exam_data, index=['seo', 'woo', 'in'])\n",
        "print(df)\n",
        "print()\n",
        "\n",
        "label1 = df.loc['seo']\n",
        "position1 = df.iloc[0]\n",
        "print(label1)\n",
        "print()\n",
        "print(position1)\n",
        "\n",
        "label2 = df.loc[['seo', 'woo']]\n",
        "position2 = df.iloc[[0,1]]\n",
        "print(label2)\n",
        "print()\n",
        "print(position2)\n",
        "print()\n",
        "\n",
        "label3 = df.loc['seo':'woo']\n",
        "position3 = df.iloc[0:1]\n",
        "print(label3)\n",
        "print()\n",
        "print(position3)"
      ],
      "metadata": {
        "colab": {
          "base_uri": "https://localhost:8080/"
        },
        "id": "3FN7JfSWDDfD",
        "outputId": "5dcc8daf-86c3-4a75-d12a-de6bc292e865"
      },
      "execution_count": 15,
      "outputs": [
        {
          "output_type": "stream",
          "name": "stdout",
          "text": [
            "     math  Eng  Music  Exer\n",
            "seo    90   98     85   100\n",
            "woo    80   89     95    90\n",
            "in     70   95    100    90\n",
            "\n",
            "math      90\n",
            "Eng       98\n",
            "Music     85\n",
            "Exer     100\n",
            "Name: seo, dtype: int64\n",
            "\n",
            "math      90\n",
            "Eng       98\n",
            "Music     85\n",
            "Exer     100\n",
            "Name: seo, dtype: int64\n",
            "     math  Eng  Music  Exer\n",
            "seo    90   98     85   100\n",
            "woo    80   89     95    90\n",
            "\n",
            "     math  Eng  Music  Exer\n",
            "seo    90   98     85   100\n",
            "woo    80   89     95    90\n",
            "\n",
            "     math  Eng  Music  Exer\n",
            "seo    90   98     85   100\n",
            "woo    80   89     95    90\n",
            "\n",
            "     math  Eng  Music  Exer\n",
            "seo    90   98     85   100\n"
          ]
        }
      ]
    },
    {
      "cell_type": "code",
      "source": [
        "#p25 / ex 1-10\n",
        "exam_data = {'math' : [90, 80, 70], 'Eng' : [98,89,95],\n",
        "             'Music':[85,95,100], 'Exer' : [100, 90, 90]}\n",
        "df = pd.DataFrame(exam_data, index=['seo', 'woo', 'in'])\n",
        "print(df)\n",
        "\n",
        "print(type(df))\n",
        "print()\n",
        "\n",
        "math1 = df['math']\n",
        "print(math1)\n",
        "print(type(math1))\n",
        "print()\n",
        "\n",
        "english = df.Eng\n",
        "print(english)\n",
        "print(type(english))\n",
        "\n",
        "music_gym = df[['Music', 'Exer']]\n",
        "print(music_gym)\n",
        "print(type(music_gym))\n",
        "print()\n",
        "\n",
        "math2 = df[['math']]\n",
        "print(math2)\n",
        "print(type(math2))"
      ],
      "metadata": {
        "colab": {
          "base_uri": "https://localhost:8080/"
        },
        "id": "87Yuddr_ELhq",
        "outputId": "7cbdf066-927b-451c-f290-c90021938f00"
      },
      "execution_count": 19,
      "outputs": [
        {
          "output_type": "stream",
          "name": "stdout",
          "text": [
            "     math  Eng  Music  Exer\n",
            "seo    90   98     85   100\n",
            "woo    80   89     95    90\n",
            "in     70   95    100    90\n",
            "<class 'pandas.core.frame.DataFrame'>\n",
            "\n",
            "seo    90\n",
            "woo    80\n",
            "in     70\n",
            "Name: math, dtype: int64\n",
            "<class 'pandas.core.series.Series'>\n",
            "\n",
            "seo    98\n",
            "woo    89\n",
            "in     95\n",
            "Name: Eng, dtype: int64\n",
            "<class 'pandas.core.series.Series'>\n",
            "     Music  Exer\n",
            "seo     85   100\n",
            "woo     95    90\n",
            "in     100    90\n",
            "<class 'pandas.core.frame.DataFrame'>\n",
            "\n",
            "     math\n",
            "seo    90\n",
            "woo    80\n",
            "in     70\n",
            "<class 'pandas.core.frame.DataFrame'>\n"
          ]
        }
      ]
    },
    {
      "cell_type": "code",
      "source": [
        "#p28 / ex 1-11\n",
        "exam_data = {'math' : [90, 80, 70],\n",
        "             'name' :['seo', 'woo', 'in'],\n",
        "             'Eng' : [98,89,95],\n",
        "             'Music':[85,95,100], 'Exer' : [100, 90, 90]}\n",
        "df = pd.DataFrame(exam_data)\n",
        "df.set_index('name', inplace=True)\n",
        "print(df)\n",
        "print()\n",
        "\n",
        "a = df.loc['seo', 'Music']\n",
        "print(a)\n",
        "b=df.iloc[0,2]\n",
        "print(b)\n",
        "print()\n",
        "\n",
        "c=df.loc['seo', ['Music', 'Exer']]\n",
        "print(c)\n",
        "d = df.iloc[0, [2,3]]\n",
        "print(d)\n",
        "e = df.loc['seo', 'Music':'Exer']\n",
        "print(e)\n",
        "f = df.iloc[0, 2:]\n",
        "print(f)\n",
        "print()\n",
        "\n",
        "g = df.loc[['seo', 'woo'], ['Music','Exer']]\n",
        "print(g)\n",
        "h = df.iloc[[0,1], [2,3]]\n",
        "print(h)\n",
        "i = df.loc['seo':'woo', 'Music':'Exer']\n",
        "print(i)\n",
        "j=df.iloc[0:2, 2:]\n",
        "print(j)"
      ],
      "metadata": {
        "colab": {
          "base_uri": "https://localhost:8080/"
        },
        "id": "h_4crsnXEsiB",
        "outputId": "6b72fa31-d4b6-44d0-f1f5-2268eb8e6ff9"
      },
      "execution_count": 30,
      "outputs": [
        {
          "output_type": "stream",
          "name": "stdout",
          "text": [
            "      math  Eng  Music  Exer\n",
            "name                        \n",
            "seo     90   98     85   100\n",
            "woo     80   89     95    90\n",
            "in      70   95    100    90\n",
            "\n",
            "85\n",
            "85\n",
            "\n",
            "Music     85\n",
            "Exer     100\n",
            "Name: seo, dtype: int64\n",
            "Music     85\n",
            "Exer     100\n",
            "Name: seo, dtype: int64\n",
            "Music     85\n",
            "Exer     100\n",
            "Name: seo, dtype: int64\n",
            "Music     85\n",
            "Exer     100\n",
            "Name: seo, dtype: int64\n",
            "\n",
            "      Music  Exer\n",
            "name             \n",
            "seo      85   100\n",
            "woo      95    90\n",
            "      Music  Exer\n",
            "name             \n",
            "seo      85   100\n",
            "woo      95    90\n",
            "      Music  Exer\n",
            "name             \n",
            "seo      85   100\n",
            "woo      95    90\n",
            "      Music  Exer\n",
            "name             \n",
            "seo      85   100\n",
            "woo      95    90\n"
          ]
        }
      ]
    },
    {
      "cell_type": "code",
      "source": [
        "#p32 / ex 1-12\n",
        "exam_data = {'name' :['seo', 'woo', 'in'],\n",
        "             'math' : [90, 80, 70],\n",
        "             'Eng' : [98,89,95],\n",
        "             'Music':[85,95,100],\n",
        "             'Exer' : [100, 90, 90]}\n",
        "df = pd.DataFrame(exam_data)\n",
        "print(df)\n",
        "print()\n",
        "\n",
        "df['Kor']=80\n",
        "print(df)"
      ],
      "metadata": {
        "colab": {
          "base_uri": "https://localhost:8080/"
        },
        "id": "CRSut_0jHgC0",
        "outputId": "7f8dfb1a-692d-435b-91f7-ffd8367c0bcc"
      },
      "execution_count": 34,
      "outputs": [
        {
          "output_type": "stream",
          "name": "stdout",
          "text": [
            "  name  math  Eng  Music  Exer\n",
            "0  seo    90   98     85   100\n",
            "1  woo    80   89     95    90\n",
            "2   in    70   95    100    90\n",
            "\n",
            "  name  math  Eng  Music  Exer  Kor\n",
            "0  seo    90   98     85   100   80\n",
            "1  woo    80   89     95    90   80\n",
            "2   in    70   95    100    90   80\n"
          ]
        }
      ]
    },
    {
      "cell_type": "code",
      "source": [
        "#p 33 / ex 1-13\n",
        "exam_data = {'name' :['seo', 'woo', 'in'],\n",
        "             'math' : [90, 80, 70],\n",
        "             'Eng' : [98,89,95],\n",
        "             'Music':[85,95,100], 'Exer' : [100, 90, 90]}\n",
        "df = pd.DataFrame(exam_data)\n",
        "print(df)\n",
        "print()\n",
        "\n",
        "df.loc[3]=0\n",
        "print(df)\n",
        "print()\n",
        "\n",
        "df.loc[4] = ['dong', 90, 80, 70, 60]\n",
        "print(df)\n",
        "print()\n",
        "\n",
        "df.loc['row5'] = df.loc[3]\n",
        "print(df)"
      ],
      "metadata": {
        "colab": {
          "base_uri": "https://localhost:8080/"
        },
        "id": "m0ZbjKnLGgPj",
        "outputId": "27816663-d88f-4ecf-aab4-22ab5a1df2cc"
      },
      "execution_count": 35,
      "outputs": [
        {
          "output_type": "stream",
          "name": "stdout",
          "text": [
            "  name  math  Eng  Music  Exer\n",
            "0  seo    90   98     85   100\n",
            "1  woo    80   89     95    90\n",
            "2   in    70   95    100    90\n",
            "\n",
            "  name  math  Eng  Music  Exer\n",
            "0  seo    90   98     85   100\n",
            "1  woo    80   89     95    90\n",
            "2   in    70   95    100    90\n",
            "3    0     0    0      0     0\n",
            "\n",
            "   name  math  Eng  Music  Exer\n",
            "0   seo    90   98     85   100\n",
            "1   woo    80   89     95    90\n",
            "2    in    70   95    100    90\n",
            "3     0     0    0      0     0\n",
            "4  dong    90   80     70    60\n",
            "\n",
            "      name  math  Eng  Music  Exer\n",
            "0      seo    90   98     85   100\n",
            "1      woo    80   89     95    90\n",
            "2       in    70   95    100    90\n",
            "3        0     0    0      0     0\n",
            "4     dong    90   80     70    60\n",
            "row5     0     0    0      0     0\n"
          ]
        }
      ]
    },
    {
      "cell_type": "code",
      "source": [
        "#p 35 / ex 1-14\n",
        "exam_data = {'name' :['seo', 'woo', 'in'],\n",
        "             'math' : [90, 80, 70],\n",
        "             'Eng' : [98,89,95],\n",
        "             'Music':[85,95,100], 'Exer' : [100, 90, 90]}\n",
        "df = pd.DataFrame(exam_data)\n",
        "\n",
        "df.set_index('name', inplace=True)\n",
        "print(df)\n",
        "print()\n",
        "\n",
        "df.iloc[0][3] = 80\n",
        "print(df)\n",
        "print()\n",
        "\n",
        "df.loc['seo']['Exer'] = 90\n",
        "print(df)\n",
        "print()\n",
        "\n",
        "df.loc['seo', 'Exer'] = 100\n",
        "print(df)\n",
        "\n",
        "df.loc['seo', ['Music', 'Exer']] = 50\n",
        "print(df)\n",
        "print()\n",
        "\n",
        "df.loc['seo', ['Music', 'Exer']] = 100, 50\n",
        "print(df)"
      ],
      "metadata": {
        "colab": {
          "base_uri": "https://localhost:8080/"
        },
        "id": "Lk6UAo_lI6x0",
        "outputId": "56d0ebc3-0786-4bb2-db94-94f975c6a747"
      },
      "execution_count": 37,
      "outputs": [
        {
          "output_type": "stream",
          "name": "stdout",
          "text": [
            "      math  Eng  Music  Exer\n",
            "name                        \n",
            "seo     90   98     85   100\n",
            "woo     80   89     95    90\n",
            "in      70   95    100    90\n",
            "\n",
            "      math  Eng  Music  Exer\n",
            "name                        \n",
            "seo     90   98     85    80\n",
            "woo     80   89     95    90\n",
            "in      70   95    100    90\n",
            "\n",
            "      math  Eng  Music  Exer\n",
            "name                        \n",
            "seo     90   98     85    90\n",
            "woo     80   89     95    90\n",
            "in      70   95    100    90\n",
            "\n",
            "      math  Eng  Music  Exer\n",
            "name                        \n",
            "seo     90   98     85   100\n",
            "woo     80   89     95    90\n",
            "in      70   95    100    90\n",
            "      math  Eng  Music  Exer\n",
            "name                        \n",
            "seo     90   98     50    50\n",
            "woo     80   89     95    90\n",
            "in      70   95    100    90\n",
            "\n",
            "      math  Eng  Music  Exer\n",
            "name                        \n",
            "seo     90   98    100    50\n",
            "woo     80   89     95    90\n",
            "in      70   95    100    90\n"
          ]
        }
      ]
    },
    {
      "cell_type": "code",
      "source": [
        "#p 38 / ex 1-15\n",
        "\n",
        "exam_data = {'name' :['seo', 'woo', 'in'],\n",
        "             'math' : [90, 80, 70],\n",
        "             'Eng' : [98,89,95],\n",
        "             'Music':[85,95,100], 'Exer' : [100, 90, 90]}\n",
        "df = pd.DataFrame(exam_data)\n",
        "print(df)\n",
        "print()\n",
        "\n",
        "df=df.transpose()\n",
        "print(df)\n",
        "print()\n",
        "\n",
        "df=df.T\n",
        "print(df)"
      ],
      "metadata": {
        "colab": {
          "base_uri": "https://localhost:8080/"
        },
        "id": "vG3pscK0J5pz",
        "outputId": "ec8b735d-1897-468e-ffd3-fb352822e8ec"
      },
      "execution_count": 38,
      "outputs": [
        {
          "output_type": "stream",
          "name": "stdout",
          "text": [
            "  name  math  Eng  Music  Exer\n",
            "0  seo    90   98     85   100\n",
            "1  woo    80   89     95    90\n",
            "2   in    70   95    100    90\n",
            "\n",
            "         0    1    2\n",
            "name   seo  woo   in\n",
            "math    90   80   70\n",
            "Eng     98   89   95\n",
            "Music   85   95  100\n",
            "Exer   100   90   90\n",
            "\n",
            "  name math Eng Music Exer\n",
            "0  seo   90  98    85  100\n",
            "1  woo   80  89    95   90\n",
            "2   in   70  95   100   90\n"
          ]
        }
      ]
    },
    {
      "cell_type": "code",
      "source": [
        "exam_data = {'name' :['seo', 'woo', 'in'],\n",
        "             'math' : [90, 80, 70],\n",
        "             'Eng' : [98,89,95],\n",
        "             'Music':[85,95,100], 'Exer' : [100, 90, 90]}\n",
        "df = pd.DataFrame(exam_data)\n",
        "print(df)\n",
        "print()\n",
        "\n",
        "ndf = df.set_index(['name'])\n",
        "print(ndf)\n",
        "print()\n",
        "ndf2 = ndf.set_index(['Music'])\n",
        "print(ndf2)\n",
        "print()\n",
        "ndf3 = ndf.set_index(['math', 'Music'])\n",
        "print(ndf3)"
      ],
      "metadata": {
        "colab": {
          "base_uri": "https://localhost:8080/"
        },
        "id": "ZD3JKUooKWs3",
        "outputId": "a574e0f5-5e79-46c2-b48d-963488588d3f"
      },
      "execution_count": 40,
      "outputs": [
        {
          "output_type": "stream",
          "name": "stdout",
          "text": [
            "  name  math  Eng  Music  Exer\n",
            "0  seo    90   98     85   100\n",
            "1  woo    80   89     95    90\n",
            "2   in    70   95    100    90\n",
            "\n",
            "      math  Eng  Music  Exer\n",
            "name                        \n",
            "seo     90   98     85   100\n",
            "woo     80   89     95    90\n",
            "in      70   95    100    90\n",
            "\n",
            "       math  Eng  Exer\n",
            "Music                 \n",
            "85       90   98   100\n",
            "95       80   89    90\n",
            "100      70   95    90\n",
            "\n",
            "            Eng  Exer\n",
            "math Music           \n",
            "90   85      98   100\n",
            "80   95      89    90\n",
            "70   100     95    90\n"
          ]
        }
      ]
    },
    {
      "cell_type": "code",
      "source": [
        "#p41 / ex1-17\n",
        "dict_data = {'c0':[1,2,3], 'c1':[4,5,6], 'c2':[7,8,9], 'c3':[10,11,12], 'c4':[13,14,15]}\n",
        "\n",
        "df=pd.DataFrame(dict_data, index=['r0','r1','r2'])\n",
        "print(df)\n",
        "print()\n",
        "\n",
        "new_index=['r0','r1','r2','r3','r4']\n",
        "ndf = df.reindex(new_index)\n",
        "print(ndf)\n",
        "print()\n",
        "\n",
        "new_index=['r0','r1','r2','r3','r4']\n",
        "ndf2 = df.reindex(new_index, fill_value=0)\n",
        "print(ndf2)"
      ],
      "metadata": {
        "colab": {
          "base_uri": "https://localhost:8080/"
        },
        "id": "KqaM55c_K2Ie",
        "outputId": "5f938b1f-5ad7-4c04-b431-3fd325ff18db"
      },
      "execution_count": 43,
      "outputs": [
        {
          "output_type": "stream",
          "name": "stdout",
          "text": [
            "    c0  c1  c2  c3  c4\n",
            "r0   1   4   7  10  13\n",
            "r1   2   5   8  11  14\n",
            "r2   3   6   9  12  15\n",
            "\n",
            "     c0   c1   c2    c3    c4\n",
            "r0  1.0  4.0  7.0  10.0  13.0\n",
            "r1  2.0  5.0  8.0  11.0  14.0\n",
            "r2  3.0  6.0  9.0  12.0  15.0\n",
            "r3  NaN  NaN  NaN   NaN   NaN\n",
            "r4  NaN  NaN  NaN   NaN   NaN\n",
            "\n",
            "    c0  c1  c2  c3  c4\n",
            "r0   1   4   7  10  13\n",
            "r1   2   5   8  11  14\n",
            "r2   3   6   9  12  15\n",
            "r3   0   0   0   0   0\n",
            "r4   0   0   0   0   0\n"
          ]
        }
      ]
    },
    {
      "cell_type": "code",
      "source": [
        "#p42 / ex 1-18\n",
        "dict_data = {'c0':[1,2,3], 'c1':[4,5,6], 'c2':[7,8,9], 'c3':[10,11,12], 'c4':[13,14,15]}\n",
        "\n",
        "df=pd.DataFrame(dict_data, index=['r0','r1','r2'])\n",
        "print(df)\n",
        "print()\n",
        "\n",
        "ndf = df.reset_index()\n",
        "print(ndf)\n",
        "\n",
        "ndf2= ndf.reset_index()\n",
        "print(ndf2)"
      ],
      "metadata": {
        "colab": {
          "base_uri": "https://localhost:8080/"
        },
        "id": "M-Oa24amTawm",
        "outputId": "21158d7b-1b99-4656-9e81-0e7953de7c5a"
      },
      "execution_count": 45,
      "outputs": [
        {
          "output_type": "stream",
          "name": "stdout",
          "text": [
            "    c0  c1  c2  c3  c4\n",
            "r0   1   4   7  10  13\n",
            "r1   2   5   8  11  14\n",
            "r2   3   6   9  12  15\n",
            "\n",
            "  index  c0  c1  c2  c3  c4\n",
            "0    r0   1   4   7  10  13\n",
            "1    r1   2   5   8  11  14\n",
            "2    r2   3   6   9  12  15\n",
            "   level_0 index  c0  c1  c2  c3  c4\n",
            "0        0    r0   1   4   7  10  13\n",
            "1        1    r1   2   5   8  11  14\n",
            "2        2    r2   3   6   9  12  15\n"
          ]
        }
      ]
    },
    {
      "cell_type": "code",
      "source": [
        "#p43 / ex 1-19\n",
        "dict_data = {'c0':[1,2,3], 'c1':[4,5,6], 'c2':[7,8,9], 'c3':[10,11,12], 'c4':[13,14,15]}\n",
        "\n",
        "df=pd.DataFrame(dict_data, index=['r0','r1','r2'])\n",
        "print(df)\n",
        "print()\n",
        "\n",
        "ndf = df.sort_index(ascending = False)\n",
        "print(ndf)\n",
        "print()\n",
        "\n",
        "ndf2 = df.sort_index(ascending=True)\n",
        "print(ndf)"
      ],
      "metadata": {
        "colab": {
          "base_uri": "https://localhost:8080/"
        },
        "id": "Uxz5NRR3TzNV",
        "outputId": "b72eb41f-4547-4012-b20d-28487bbd8a0e"
      },
      "execution_count": 53,
      "outputs": [
        {
          "output_type": "stream",
          "name": "stdout",
          "text": [
            "    c0  c1  c2  c3  c4\n",
            "r0   1   4   7  10  13\n",
            "r1   2   5   8  11  14\n",
            "r2   3   6   9  12  15\n",
            "\n",
            "    c0  c1  c2  c3  c4\n",
            "r2   3   6   9  12  15\n",
            "r1   2   5   8  11  14\n",
            "r0   1   4   7  10  13\n",
            "\n",
            "    c0  c1  c2  c3  c4\n",
            "r2   3   6   9  12  15\n",
            "r1   2   5   8  11  14\n",
            "r0   1   4   7  10  13\n"
          ]
        }
      ]
    },
    {
      "cell_type": "code",
      "source": [
        "#p45 / ex 1-20\n",
        "dict_data = {'c0':[1,2,3], 'c1':[100,1,10], 'c2':[7,8,9], 'c3':[10,11,12], 'c4':[13,14,15]}\n",
        "\n",
        "df=pd.DataFrame(dict_data, index=['r0','r1','r2'])\n",
        "print(df)\n",
        "print()\n",
        "\n",
        "ndf = df.sort_values(by = 'c1', ascending = False)\n",
        "print(ndf)"
      ],
      "metadata": {
        "colab": {
          "base_uri": "https://localhost:8080/"
        },
        "id": "TqJSd9FVT-80",
        "outputId": "206fea08-4c04-438b-8386-f94108ec3749"
      },
      "execution_count": 59,
      "outputs": [
        {
          "output_type": "stream",
          "name": "stdout",
          "text": [
            "    c0   c1  c2  c3  c4\n",
            "r0   1  100   7  10  13\n",
            "r1   2    1   8  11  14\n",
            "r2   3   10   9  12  15\n",
            "\n",
            "    c0   c1  c2  c3  c4\n",
            "r0   1  100   7  10  13\n",
            "r2   3   10   9  12  15\n",
            "r1   2    1   8  11  14\n"
          ]
        }
      ]
    },
    {
      "cell_type": "code",
      "source": [
        "#p46 / ex 1-21\n",
        "student1 = pd.Series({'Kor':100, 'Eng':80, 'Math':90})\n",
        "print(student1)\n",
        "print()\n",
        "\n",
        "percentage = student1/100\n",
        "\n",
        "print(percentage)\n",
        "print()\n",
        "print(type(percentage))"
      ],
      "metadata": {
        "colab": {
          "base_uri": "https://localhost:8080/"
        },
        "id": "HtZlByQBWd1-",
        "outputId": "8395b9cc-5f3e-4066-859d-d6ba9ff174db"
      },
      "execution_count": 55,
      "outputs": [
        {
          "output_type": "stream",
          "name": "stdout",
          "text": [
            "Kor     100\n",
            "Eng      80\n",
            "Math     90\n",
            "dtype: int64\n",
            "\n",
            "Kor     1.0\n",
            "Eng     0.8\n",
            "Math    0.9\n",
            "dtype: float64\n",
            "\n",
            "<class 'pandas.core.series.Series'>\n"
          ]
        }
      ]
    },
    {
      "cell_type": "code",
      "source": [
        "#p47 / ex 1-22\n",
        "student1 = pd.Series({'Kor':100, 'Eng':80, 'Math':90})\n",
        "student2 = pd.Series({'Math':80, 'Kor':90, 'Eng':80})\n",
        "print(student1)\n",
        "print()\n",
        "print(student2)\n",
        "print()\n",
        "\n",
        "addition = student1 + student2\n",
        "subtraction = student1 - student2\n",
        "multiplication = student1 * student2\n",
        "division = student1/student2\n",
        "print(type(division))\n",
        "print()\n",
        "\n",
        "result = pd.DataFrame([addition, subtraction, multiplication, division], index=['sum', 'diff', 'multi', 'div'])\n",
        "print(result)"
      ],
      "metadata": {
        "colab": {
          "base_uri": "https://localhost:8080/"
        },
        "id": "Zy7FsLmbW1BN",
        "outputId": "d8b23e9b-af00-45ab-a1ff-c2a6e3310c20"
      },
      "execution_count": 62,
      "outputs": [
        {
          "output_type": "stream",
          "name": "stdout",
          "text": [
            "Kor     100\n",
            "Eng      80\n",
            "Math     90\n",
            "dtype: int64\n",
            "\n",
            "Math    80\n",
            "Kor     90\n",
            "Eng     80\n",
            "dtype: int64\n",
            "\n",
            "<class 'pandas.core.series.Series'>\n",
            "\n",
            "          Eng          Kor      Math\n",
            "sum     160.0   190.000000   170.000\n",
            "diff      0.0    10.000000    10.000\n",
            "multi  6400.0  9000.000000  7200.000\n",
            "div       1.0     1.111111     1.125\n"
          ]
        }
      ]
    },
    {
      "cell_type": "code",
      "source": [
        "#p 49 / ex 1-23\n",
        "student1 = pd.Series({'Kor':np.nan, 'Eng':80, 'math':90})\n",
        "student2 = pd.Series({'math':80, 'Kor':90})\n",
        "\n",
        "print(student1)\n",
        "print()\n",
        "print(student2)\n",
        "print()\n",
        "\n",
        "addition = student1 + student2\n",
        "subtraction = student1 - student2\n",
        "multiplication = student1 * student2\n",
        "division = student1/student2\n",
        "print(type(division))\n",
        "print()\n",
        "\n",
        "result = pd.DataFrame([addition, subtraction, multiplication, division], index=['sum', 'diff', 'multi', 'div'])\n",
        "print(result)"
      ],
      "metadata": {
        "colab": {
          "base_uri": "https://localhost:8080/"
        },
        "id": "yGpF3MONYYQP",
        "outputId": "4fd1454a-41c6-4c29-de46-0d2302d45271"
      },
      "execution_count": 63,
      "outputs": [
        {
          "output_type": "stream",
          "name": "stdout",
          "text": [
            "Kor      NaN\n",
            "Eng     80.0\n",
            "math    90.0\n",
            "dtype: float64\n",
            "\n",
            "math    80\n",
            "Kor     90\n",
            "dtype: int64\n",
            "\n",
            "<class 'pandas.core.series.Series'>\n",
            "\n",
            "       Eng  Kor      math\n",
            "sum    NaN  NaN   170.000\n",
            "diff   NaN  NaN    10.000\n",
            "multi  NaN  NaN  7200.000\n",
            "div    NaN  NaN     1.125\n"
          ]
        }
      ]
    },
    {
      "cell_type": "code",
      "source": [
        "#p 51 / ex 1-24\n",
        "\n",
        "student1 = pd.Series({'Kor':np.nan, 'Eng':80, 'math':90})\n",
        "student2 = pd.Series({'math':80, 'Kor':90})\n",
        "\n",
        "print(student1)\n",
        "print()\n",
        "print(student2)\n",
        "print()\n",
        "\n",
        "sr_add = student1.add(student2, fill_value=0)\n",
        "sr_sub = student1.sub(student2, fill_value=0)\n",
        "sr_mul = student1.mul(student2, fill_value=0)\n",
        "sr_div = student1.div(student2, fill_value=0)\n",
        "\n",
        "result = pd.DataFrame([sr_add, sr_sub, sr_mul, sr_div], index=['sum', 'diff', 'multi', 'div'])\n",
        "print(result)"
      ],
      "metadata": {
        "colab": {
          "base_uri": "https://localhost:8080/"
        },
        "id": "54zOcnmgY-eQ",
        "outputId": "37c8157b-6d3e-4d83-85cd-bb79f0ee4271"
      },
      "execution_count": 64,
      "outputs": [
        {
          "output_type": "stream",
          "name": "stdout",
          "text": [
            "Kor      NaN\n",
            "Eng     80.0\n",
            "math    90.0\n",
            "dtype: float64\n",
            "\n",
            "math    80\n",
            "Kor     90\n",
            "dtype: int64\n",
            "\n",
            "        Eng   Kor      math\n",
            "sum    80.0  90.0   170.000\n",
            "diff   80.0 -90.0    10.000\n",
            "multi   0.0   0.0  7200.000\n",
            "div     inf   0.0     1.125\n"
          ]
        }
      ]
    },
    {
      "cell_type": "code",
      "source": [
        "#p53 / ex 1-25\n",
        "import seaborn as sns\n",
        "\n",
        "titanic = sns.load_dataset('titanic')\n",
        "df = titanic.loc[:, ['age','fare']]\n",
        "print(df.head())\n",
        "print()\n",
        "print(type(df))\n",
        "print()\n",
        "\n",
        "addition=df+10\n",
        "print(addition.head())\n",
        "print()\n",
        "print(type(addition))"
      ],
      "metadata": {
        "colab": {
          "base_uri": "https://localhost:8080/"
        },
        "id": "WRXTFHMeZvR2",
        "outputId": "2b7006b8-b123-4930-fa68-c83a25ccdc3f"
      },
      "execution_count": 67,
      "outputs": [
        {
          "output_type": "stream",
          "name": "stdout",
          "text": [
            "    age     fare\n",
            "0  22.0   7.2500\n",
            "1  38.0  71.2833\n",
            "2  26.0   7.9250\n",
            "3  35.0  53.1000\n",
            "4  35.0   8.0500\n",
            "\n",
            "<class 'pandas.core.frame.DataFrame'>\n",
            "\n",
            "    age     fare\n",
            "0  32.0  17.2500\n",
            "1  48.0  81.2833\n",
            "2  36.0  17.9250\n",
            "3  45.0  63.1000\n",
            "4  45.0  18.0500\n",
            "\n",
            "<class 'pandas.core.frame.DataFrame'>\n"
          ]
        }
      ]
    },
    {
      "cell_type": "code",
      "source": [
        "#54 / ex 1-26\n",
        "titanic = sns.load_dataset('titanic')\n",
        "df = titanic.loc[:, ['age', 'fare']]\n",
        "print(df.tail())\n",
        "print()\n",
        "print(type(df))\n",
        "print()\n",
        "\n",
        "addition = df +10\n",
        "print(addition.tail())\n",
        "print()\n",
        "print(type(addition))\n",
        "print()\n",
        "\n",
        "subtraction = addition -df\n",
        "print(subtraction.tail())\n",
        "print()\n",
        "print(type(subtraction))"
      ],
      "metadata": {
        "colab": {
          "base_uri": "https://localhost:8080/"
        },
        "id": "roRTMqSBaaQO",
        "outputId": "e0661fad-58b3-44c9-baa8-c685a371d989"
      },
      "execution_count": 69,
      "outputs": [
        {
          "output_type": "stream",
          "name": "stdout",
          "text": [
            "      age   fare\n",
            "886  27.0  13.00\n",
            "887  19.0  30.00\n",
            "888   NaN  23.45\n",
            "889  26.0  30.00\n",
            "890  32.0   7.75\n",
            "\n",
            "<class 'pandas.core.frame.DataFrame'>\n",
            "\n",
            "      age   fare\n",
            "886  37.0  23.00\n",
            "887  29.0  40.00\n",
            "888   NaN  33.45\n",
            "889  36.0  40.00\n",
            "890  42.0  17.75\n",
            "\n",
            "<class 'pandas.core.frame.DataFrame'>\n",
            "\n",
            "      age  fare\n",
            "886  10.0  10.0\n",
            "887  10.0  10.0\n",
            "888   NaN  10.0\n",
            "889  10.0  10.0\n",
            "890  10.0  10.0\n",
            "\n",
            "<class 'pandas.core.frame.DataFrame'>\n"
          ]
        }
      ]
    },
    {
      "cell_type": "markdown",
      "source": [
        "**Part 2. 데이터 입출력**\n",
        "\n",
        "p.58~"
      ],
      "metadata": {
        "id": "GigqiDQebRNt"
      }
    },
    {
      "cell_type": "code",
      "source": [
        "#p 60 / ex 2-1\n",
        "file_path = './read_csv_sample.csv'\n",
        "\n",
        "df1 = pd.read_csv(file_path)\n",
        "print(df1)\n",
        "print()\n",
        "\n",
        "df2=pd.read_csv(file_path, header=None)\n",
        "print(df2)\n",
        "print()\n",
        "\n",
        "df3 = pd.read_csv(file_path, index_col=None)\n",
        "print(df3)\n",
        "print()\n",
        "\n",
        "df4 = pd.read_csv(file_path, index_col='c0')\n",
        "print(df4)"
      ],
      "metadata": {
        "colab": {
          "base_uri": "https://localhost:8080/"
        },
        "id": "K2A3TORKbPu_",
        "outputId": "53b89af3-f193-4fbe-d262-2ad9f1a128af"
      },
      "execution_count": 70,
      "outputs": [
        {
          "output_type": "stream",
          "name": "stdout",
          "text": [
            "   c0  c1  c2  c3\n",
            "0   0   1   4   7\n",
            "1   1   2   5   8\n",
            "2   2   3   6   9\n",
            "\n",
            "    0   1   2   3\n",
            "0  c0  c1  c2  c3\n",
            "1   0   1   4   7\n",
            "2   1   2   5   8\n",
            "3   2   3   6   9\n",
            "\n",
            "   c0  c1  c2  c3\n",
            "0   0   1   4   7\n",
            "1   1   2   5   8\n",
            "2   2   3   6   9\n",
            "\n",
            "    c1  c2  c3\n",
            "c0            \n",
            "0    1   4   7\n",
            "1    2   5   8\n",
            "2    3   6   9\n"
          ]
        }
      ]
    },
    {
      "cell_type": "code",
      "source": [
        "#p63 / ex 2-2\n",
        "\n",
        "df1 = pd.read_excel('./남북한발전전력량.xlsx', engine = 'openpyxl')\n",
        "df2 = pd.read_excel('./남북한발전전력량.xlsx', engine = 'openpyxl', header = None)\n",
        "\n",
        "print(df1)\n",
        "print()\n",
        "print(df2)"
      ],
      "metadata": {
        "colab": {
          "base_uri": "https://localhost:8080/"
        },
        "id": "g3gyLBSoeCTA",
        "outputId": "d3bb64ed-2fa3-4c01-907b-cb0f5c3f4a72"
      },
      "execution_count": 72,
      "outputs": [
        {
          "output_type": "stream",
          "name": "stdout",
          "text": [
            "  전력량 (억㎾h) 발전 전력별  1990  1991  1992  1993  1994  1995  1996  1997  ...  2007  \\\n",
            "0        남한     합계  1077  1186  1310  1444  1650  1847  2055  2244  ...  4031   \n",
            "1       NaN     수력    64    51    49    60    41    55    52    54  ...    50   \n",
            "2       NaN     화력   484   573   696   803  1022  1122  1264  1420  ...  2551   \n",
            "3       NaN    원자력   529   563   565   581   587   670   739   771  ...  1429   \n",
            "4       NaN    신재생     -     -     -     -     -     -     -     -  ...     -   \n",
            "5        북한     합계   277   263   247   221   231   230   213   193  ...   236   \n",
            "6       NaN     수력   156   150   142   133   138   142   125   107  ...   133   \n",
            "7       NaN     화력   121   113   105    88    93    88    88    86  ...   103   \n",
            "8       NaN    원자력     -     -     -     -     -     -     -     -  ...     -   \n",
            "\n",
            "   2008  2009  2010  2011  2012  2013  2014  2015  2016  \n",
            "0  4224  4336  4747  4969  5096  5171  5220  5281  5404  \n",
            "1    56    56    65    78    77    84    78    58    66  \n",
            "2  2658  2802  3196  3343  3430  3581  3427  3402  3523  \n",
            "3  1510  1478  1486  1547  1503  1388  1564  1648  1620  \n",
            "4     -     -     -     -    86   118   151   173   195  \n",
            "5   255   235   237   211   215   221   216   190   239  \n",
            "6   141   125   134   132   135   139   130   100   128  \n",
            "7   114   110   103    79    80    82    86    90   111  \n",
            "8     -     -     -     -     -     -     -     -     -  \n",
            "\n",
            "[9 rows x 29 columns]\n",
            "\n",
            "          0       1     2     3     4     5     6     7     8     9   ...  \\\n",
            "0  전력량 (억㎾h)  발전 전력별  1990  1991  1992  1993  1994  1995  1996  1997  ...   \n",
            "1         남한      합계  1077  1186  1310  1444  1650  1847  2055  2244  ...   \n",
            "2        NaN      수력    64    51    49    60    41    55    52    54  ...   \n",
            "3        NaN      화력   484   573   696   803  1022  1122  1264  1420  ...   \n",
            "4        NaN     원자력   529   563   565   581   587   670   739   771  ...   \n",
            "5        NaN     신재생     -     -     -     -     -     -     -     -  ...   \n",
            "6         북한      합계   277   263   247   221   231   230   213   193  ...   \n",
            "7        NaN      수력   156   150   142   133   138   142   125   107  ...   \n",
            "8        NaN      화력   121   113   105    88    93    88    88    86  ...   \n",
            "9        NaN     원자력     -     -     -     -     -     -     -     -  ...   \n",
            "\n",
            "     19    20    21    22    23    24    25    26    27    28  \n",
            "0  2007  2008  2009  2010  2011  2012  2013  2014  2015  2016  \n",
            "1  4031  4224  4336  4747  4969  5096  5171  5220  5281  5404  \n",
            "2    50    56    56    65    78    77    84    78    58    66  \n",
            "3  2551  2658  2802  3196  3343  3430  3581  3427  3402  3523  \n",
            "4  1429  1510  1478  1486  1547  1503  1388  1564  1648  1620  \n",
            "5     -     -     -     -     -    86   118   151   173   195  \n",
            "6   236   255   235   237   211   215   221   216   190   239  \n",
            "7   133   141   125   134   132   135   139   130   100   128  \n",
            "8   103   114   110   103    79    80    82    86    90   111  \n",
            "9     -     -     -     -     -     -     -     -     -     -  \n",
            "\n",
            "[10 rows x 29 columns]\n"
          ]
        }
      ]
    },
    {
      "cell_type": "code",
      "source": [
        "#p65 / ex2-3\n",
        "df = pd.read_json('./read_json_sample.json')\n",
        "print(df)\n",
        "print()\n",
        "print(df.index)"
      ],
      "metadata": {
        "colab": {
          "base_uri": "https://localhost:8080/"
        },
        "id": "9hydCKdAe6BA",
        "outputId": "31b6a57f-1ae6-4149-c111-8410825f9b5d"
      },
      "execution_count": 73,
      "outputs": [
        {
          "output_type": "stream",
          "name": "stdout",
          "text": [
            "           name  year        developer opensource\n",
            "pandas           2008    Wes Mckinneye       True\n",
            "NumPy            2006  Travis Oliphant       True\n",
            "matplotlib       2003   John D. Hunter       True\n",
            "\n",
            "Index(['pandas', 'NumPy', 'matplotlib'], dtype='object')\n"
          ]
        }
      ]
    },
    {
      "cell_type": "code",
      "source": [
        "#p 67 / ex 2-4\n",
        "url = './sample.html'\n",
        "tables = pd.read_html(url)\n",
        "\n",
        "print(len(tables))\n",
        "print()\n",
        "\n",
        "for i in range(len(tables)):\n",
        "    print('tables[%s]'%i)\n",
        "    print(tables[i])\n",
        "    print()\n",
        "\n",
        "df= tables[1]\n",
        "\n",
        "df.set_index(['name'], inplace=True)\n",
        "print(df)"
      ],
      "metadata": {
        "colab": {
          "base_uri": "https://localhost:8080/"
        },
        "id": "rKhEUvnqfS0w",
        "outputId": "e91a79b9-53d8-4275-c5d0-e1486ba4abd4"
      },
      "execution_count": 75,
      "outputs": [
        {
          "output_type": "stream",
          "name": "stdout",
          "text": [
            "2\n",
            "\n",
            "tables[0]\n",
            "   Unnamed: 0  c0  c1  c2  c3\n",
            "0           0   0   1   4   7\n",
            "1           1   1   2   5   8\n",
            "2           2   2   3   6   9\n",
            "\n",
            "tables[1]\n",
            "         name  year        developer  opensource\n",
            "0       NumPy  2006  Travis Oliphant        True\n",
            "1  matplotlib  2003   John D. Hunter        True\n",
            "2      pandas  2008    Wes Mckinneye        True\n",
            "\n",
            "            year        developer  opensource\n",
            "name                                         \n",
            "NumPy       2006  Travis Oliphant        True\n",
            "matplotlib  2003   John D. Hunter        True\n",
            "pandas      2008    Wes Mckinneye        True\n"
          ]
        }
      ]
    },
    {
      "cell_type": "code",
      "source": [
        "#p 68 / ex 2-5\n",
        "from bs4 import BeautifulSoup\n",
        "import requests\n",
        "import re\n",
        "\n",
        "url = 'https://en.wikipedia.org/wiki/List_of_American_exchange-traded_funds'\n",
        "resp=requests.get(url)\n",
        "soup = BeautifulSoup(resp.text, 'lxml')\n",
        "rows = soup.select('div > ul > li')\n",
        "\n",
        "etfs = {}\n",
        "for row in rows:\n",
        "    \n",
        "    try:\n",
        "        etf_name = re.findall('^(.*) \\(NYSE', row.text)\n",
        "        etf_market = re.findall('\\((.*)\\|', row.text)\n",
        "        etf_ticker = re.findall('NYSE Arca\\|(.*)\\)', row.text)\n",
        "        \n",
        "        if (len(etf_ticker) > 0) & (len(etf_market) > 0) & (len(etf_name) > 0):\n",
        "            etfs[etf_ticker[0]] = [etf_market[0], etf_name[0]]\n",
        "\n",
        "    except AttributeError as err:\n",
        "        pass    \n",
        "\n",
        "print(etfs)\n",
        "print()\n",
        "\n",
        "df = pd.DataFrame(etfs)\n",
        "print(df)"
      ],
      "metadata": {
        "colab": {
          "base_uri": "https://localhost:8080/"
        },
        "id": "xCY7tt5VgfTI",
        "outputId": "bc2e2587-14e3-47b5-b1db-71bb884277e8"
      },
      "execution_count": 79,
      "outputs": [
        {
          "output_type": "stream",
          "name": "stdout",
          "text": [
            "{}\n",
            "\n",
            "Empty DataFrame\n",
            "Columns: []\n",
            "Index: []\n"
          ]
        }
      ]
    },
    {
      "cell_type": "code",
      "source": [
        "#p74 / ex 2-7\n",
        "\n",
        "data={'name' : ['Jerry', 'Riah', 'Paul'],\n",
        "      'algol' : ['A', 'A+', 'B'],\n",
        "      'basic' : ['C', 'B', 'B+'],\n",
        "      'C++' : ['B+', 'C', 'C+']}\n",
        "\n",
        "df = pd.DataFrame(data)\n",
        "df.set_index('name', inplace=True)\n",
        "print(df)\n",
        "\n",
        "df.to_csv('./n_df.sample.csv')"
      ],
      "metadata": {
        "colab": {
          "base_uri": "https://localhost:8080/"
        },
        "id": "n8LnWab1kJ6n",
        "outputId": "b44e0474-68e0-478f-cacc-e3b13adea857"
      },
      "execution_count": 82,
      "outputs": [
        {
          "output_type": "stream",
          "name": "stdout",
          "text": [
            "      algol basic C++\n",
            "name                 \n",
            "Jerry     A     C  B+\n",
            "Riah     A+     B   C\n",
            "Paul      B    B+  C+\n"
          ]
        }
      ]
    },
    {
      "cell_type": "code",
      "source": [
        "#76 / ex 2-8\n",
        "\n",
        "data={'name' : ['Jerry', 'Riah', 'Paul'],\n",
        "      'algol' : ['A', 'A+', 'B'],\n",
        "      'basic' : ['C', 'B', 'B+'],\n",
        "      'C++' : ['B+', 'C', 'C+'],}\n",
        "\n",
        "df = pd.DataFrame(data)\n",
        "df.set_index('name', inplace=True)\n",
        "print(df)\n",
        "\n",
        "df.to_json('./a_df_sample.json')"
      ],
      "metadata": {
        "colab": {
          "base_uri": "https://localhost:8080/"
        },
        "id": "QGv1zeYnk43x",
        "outputId": "e456a399-2c79-4b5b-b085-e53a91ef70f8"
      },
      "execution_count": 85,
      "outputs": [
        {
          "output_type": "stream",
          "name": "stdout",
          "text": [
            "      algol basic C++\n",
            "name                 \n",
            "Jerry     A     C  B+\n",
            "Riah     A+     B   C\n",
            "Paul      B    B+  C+\n"
          ]
        }
      ]
    },
    {
      "cell_type": "code",
      "source": [
        "#p77 / ex 2-9\n",
        "data={'name' : ['Jerry', 'Riah', 'Paul'],\n",
        "      'algol' : ['A', 'A+', 'B'],\n",
        "      'basic' : ['C', 'B', 'B+'],\n",
        "      'C++' : ['B+', 'C', 'C+'],}\n",
        "\n",
        "df = pd.DataFrame(data)\n",
        "df.set_index('name', inplace=True)\n",
        "print(df)\n",
        "\n",
        "df.to_excel('./n_df_sample.xlsx')"
      ],
      "metadata": {
        "colab": {
          "base_uri": "https://localhost:8080/"
        },
        "id": "jGsfBUZWlmVI",
        "outputId": "7b8b8741-8f5a-493b-f485-bc9c54bbbf5c"
      },
      "execution_count": 86,
      "outputs": [
        {
          "output_type": "stream",
          "name": "stdout",
          "text": [
            "      algol basic C++\n",
            "name                 \n",
            "Jerry     A     C  B+\n",
            "Riah     A+     B   C\n",
            "Paul      B    B+  C+\n"
          ]
        }
      ]
    },
    {
      "cell_type": "code",
      "source": [
        "#p78 / ex 2-10\n",
        "\n",
        "data1={'name' : ['Jerry', 'Riah', 'Paul'],\n",
        "      'algol' : ['A', 'A+', 'B'],\n",
        "      'basic' : ['C', 'B', 'B+'],\n",
        "      'C++' : ['B+', 'C', 'C+'],}\n",
        "data2 = {'c0' : [1,2,3],\n",
        "         'c1' : [4,5,6],\n",
        "         'c2' : [7,8,9],\n",
        "         'c3' : [10,11,12],\n",
        "         'c4' : [13,14,15]}\n",
        "df1 = pd.DataFrame(data1)\n",
        "df1.set_index('name', inplace=True)\n",
        "print(df1)\n",
        "print()\n",
        "\n",
        "df2=pd.DataFrame(data2)\n",
        "df2.set_index('c0', inplace=True)\n",
        "print(df2)\n",
        "\n",
        "writer = pd.ExcelWriter('./n_df_excelwriter.xlsx')\n",
        "df1.to_excel(writer, sheet_name='s1')\n",
        "df2.to_excel(writer, sheet_name='s2')\n",
        "writer.save()"
      ],
      "metadata": {
        "colab": {
          "base_uri": "https://localhost:8080/"
        },
        "id": "GLtZ1CGdl31_",
        "outputId": "187b7aad-0bcb-402a-c54f-129fb3299c50"
      },
      "execution_count": 87,
      "outputs": [
        {
          "output_type": "stream",
          "name": "stdout",
          "text": [
            "      algol basic C++\n",
            "name                 \n",
            "Jerry     A     C  B+\n",
            "Riah     A+     B   C\n",
            "Paul      B    B+  C+\n",
            "\n",
            "    c1  c2  c3  c4\n",
            "c0                \n",
            "1    4   7  10  13\n",
            "2    5   8  11  14\n",
            "3    6   9  12  15\n"
          ]
        }
      ]
    }
  ]
}