{
  "nbformat": 4,
  "nbformat_minor": 0,
  "metadata": {
    "colab": {
      "name": "Pandas Machine Learning prac Day 1.ipynb",
      "provenance": [],
      "collapsed_sections": []
    },
    "kernelspec": {
      "name": "python3",
      "display_name": "Python 3"
    },
    "language_info": {
      "name": "python"
    }
  },
  "cells": [
    {
      "cell_type": "markdown",
      "source": [
        "**Day 1**\n",
        "\n",
        "Book : 파이썬 머신러닝 판다스 데이터 분석\n",
        "\n",
        "page : 5~14"
      ],
      "metadata": {
        "id": "z1eXdkdg7YXL"
      }
    },
    {
      "cell_type": "code",
      "execution_count": 2,
      "metadata": {
        "id": "gyjADW1FVNY4"
      },
      "outputs": [],
      "source": [
        "import pandas as pd     #통계 처리용\n",
        "import numpy as np      #파이썬 기반 수치 해석 라이브러리, 특히 다차원 배열 / 배열 연산 수행(선형대수 연산에 필요)\n",
        "import matplotlib       #파이썬 기반 2D 시각화 도구(그래프, 차트 등)\n",
        "import scipy            #과학용 연산에 필요한 패킷 라이브러리(미적분, 선형대수, 행렬, 방정식 계산)\n",
        "import sklearn          #scikit-learn / 머신러닝 파이썬 라이브러리(회귀분석, 분류, 군집 등 머신러닝 모형 제공)"
      ]
    },
    {
      "cell_type": "code",
      "source": [
        "#p5 / ex. 1-1\n",
        "dict_data = {'a':1, 'b':2,'c':3}\n",
        "sr = pd.Series(dict_data)\n",
        "print(type(sr))\n",
        "print()\n",
        "print(sr)"
      ],
      "metadata": {
        "colab": {
          "base_uri": "https://localhost:8080/"
        },
        "id": "i6foyfbbW1FM",
        "outputId": "08e074a5-d67a-4159-ed21-d55cfc163963"
      },
      "execution_count": 5,
      "outputs": [
        {
          "output_type": "stream",
          "name": "stdout",
          "text": [
            "<class 'pandas.core.series.Series'>\n",
            "\n",
            "a    1\n",
            "b    2\n",
            "c    3\n",
            "dtype: int64\n"
          ]
        }
      ]
    },
    {
      "cell_type": "code",
      "source": [
        "#p7 / ex.1-2\n",
        "# - coding : utf-8\n",
        "\n",
        "list_data=['2019-01-02', 3.14, 'ABC', 100, True]\n",
        "sr = pd.Series(list_data)\n",
        "print(sr)\n",
        "\n",
        "idx = sr.index\n",
        "val = sr.values\n",
        "print(idx)\n",
        "print()\n",
        "print(val)"
      ],
      "metadata": {
        "colab": {
          "base_uri": "https://localhost:8080/"
        },
        "id": "hJhufYwkXtB0",
        "outputId": "7a0aca9c-0a74-4974-b721-ec8ce14bb7a8"
      },
      "execution_count": 6,
      "outputs": [
        {
          "output_type": "stream",
          "name": "stdout",
          "text": [
            "0    2019-01-02\n",
            "1          3.14\n",
            "2           ABC\n",
            "3           100\n",
            "4          True\n",
            "dtype: object\n",
            "RangeIndex(start=0, stop=5, step=1)\n",
            "\n",
            "['2019-01-02' 3.14 'ABC' 100 True]\n"
          ]
        }
      ]
    },
    {
      "cell_type": "code",
      "source": [
        "#p9 / ex 1-3\n",
        "#tuple -> series\n",
        "\n",
        "tup_data = ('Jessi', '2010-05-01', 'Female', True)\n",
        "sr = pd.Series(tup_data, index=['이름', '생년월일', '성별', '학생여부'])\n",
        "print(sr)\n",
        "print()\n",
        "\n",
        "print(sr[0])\n",
        "print(sr['이름'])\n",
        "print()\n",
        "\n",
        "print(sr[[1,3]])\n",
        "print()\n",
        "print(sr[['생년월일', '성별']])\n",
        "print()\n",
        "\n",
        "print(sr[1:2])\n",
        "print()\n",
        "print(sr['생년월일':'성별'])"
      ],
      "metadata": {
        "colab": {
          "base_uri": "https://localhost:8080/"
        },
        "id": "P7Z5qOG0YWxs",
        "outputId": "df543f2d-73c0-4d09-c353-8864b8bb2350"
      },
      "execution_count": null,
      "outputs": [
        {
          "output_type": "stream",
          "name": "stdout",
          "text": [
            "이름           Jessi\n",
            "생년월일    2010-05-01\n",
            "성별          Female\n",
            "학생여부          True\n",
            "dtype: object\n",
            "\n",
            "Jessi\n",
            "Jessi\n",
            "\n",
            "생년월일    2010-05-01\n",
            "학생여부          True\n",
            "dtype: object\n",
            "\n",
            "생년월일    2010-05-01\n",
            "성별          Female\n",
            "dtype: object\n",
            "\n",
            "생년월일    2010-05-01\n",
            "dtype: object\n",
            "\n",
            "생년월일    2010-05-01\n",
            "성별          Female\n",
            "dtype: object\n"
          ]
        }
      ]
    },
    {
      "cell_type": "code",
      "source": [
        "#p13 / ex 1-4\n",
        "\n",
        "dict_data={'c0':[1,2,3],'c1':[4,5,6],'c2':[7,8,9],'c3':[10,11,12],'c4':[13,14,15]}\n",
        "\n",
        "df = pd.DataFrame(dict_data)\n",
        "\n",
        "print(type(df))\n",
        "print()\n",
        "print(df)"
      ],
      "metadata": {
        "colab": {
          "base_uri": "https://localhost:8080/"
        },
        "id": "bXC5qW0Ra4F1",
        "outputId": "06ef2087-a8b5-46a3-a06b-82d2fd81e396"
      },
      "execution_count": null,
      "outputs": [
        {
          "output_type": "stream",
          "name": "stdout",
          "text": [
            "<class 'pandas.core.frame.DataFrame'>\n",
            "\n",
            "   c0  c1  c2  c3  c4\n",
            "0   1   4   7  10  13\n",
            "1   2   5   8  11  14\n",
            "2   3   6   9  12  15\n"
          ]
        }
      ]
    },
    {
      "cell_type": "code",
      "source": [
        "#p14 / ex 1-5\n",
        "\n",
        "df = pd.DataFrame([[15, '남', '덕영중'], [17, '여', '수리중']],\n",
        "                  index=['준서', '예은'],\n",
        "                  columns=['나이', '성별', '학교'])\n",
        "\n",
        "print(df)\n",
        "print()\n",
        "print(df.index)\n",
        "print()\n",
        "print(df.columns)"
      ],
      "metadata": {
        "colab": {
          "base_uri": "https://localhost:8080/"
        },
        "id": "1pGhGdnDbl3D",
        "outputId": "fea59f55-6c4f-417d-f8df-c8c2bdc8a05b"
      },
      "execution_count": null,
      "outputs": [
        {
          "output_type": "stream",
          "name": "stdout",
          "text": [
            "    나이 성별   학교\n",
            "준서  15  남  덕영중\n",
            "예은  17  여  수리중\n",
            "\n",
            "Index(['준서', '예은'], dtype='object')\n",
            "\n",
            "Index(['나이', '성별', '학교'], dtype='object')\n"
          ]
        }
      ]
    },
    {
      "cell_type": "code",
      "source": [
        "import random"
      ],
      "metadata": {
        "id": "ZsFpL8rrcMGt"
      },
      "execution_count": null,
      "outputs": []
    },
    {
      "cell_type": "code",
      "source": [
        "score=[]\n",
        "names=[]\n",
        "Subj=['Kor', 'Eng', 'Math']\n",
        "for i in range(10):\n",
        "    tmp=[]\n",
        "    names.append('Stu - {}'.format(i+1))\n",
        "    for j in range(3):\n",
        "        val=random.randint(65,100)\n",
        "        tmp.append(val)\n",
        "    score.append(tmp)\n",
        "#print(score)\n",
        "s = pd.DataFrame(score,index=names,columns=Subj)\n",
        "print(s)\n",
        "print()\n",
        "print(s.index)\n",
        "print()\n",
        "print(s.columns)"
      ],
      "metadata": {
        "colab": {
          "base_uri": "https://localhost:8080/"
        },
        "id": "ycQb49imcPXM",
        "outputId": "3d3279c0-a3f3-443a-da7a-80cf5878e36e"
      },
      "execution_count": null,
      "outputs": [
        {
          "output_type": "stream",
          "name": "stdout",
          "text": [
            "          Kor  Eng  Math\n",
            "Stu - 1    89   98    66\n",
            "Stu - 2    71   87    81\n",
            "Stu - 3    69   83    75\n",
            "Stu - 4    67   65    99\n",
            "Stu - 5    73   81    67\n",
            "Stu - 6    93   84    76\n",
            "Stu - 7    76   67    89\n",
            "Stu - 8    68   92    76\n",
            "Stu - 9    75   96    73\n",
            "Stu - 10   89   93    83\n",
            "\n",
            "Index(['Stu - 1', 'Stu - 2', 'Stu - 3', 'Stu - 4', 'Stu - 5', 'Stu - 6',\n",
            "       'Stu - 7', 'Stu - 8', 'Stu - 9', 'Stu - 10'],\n",
            "      dtype='object')\n",
            "\n",
            "Index(['Kor', 'Eng', 'Math'], dtype='object')\n"
          ]
        }
      ]
    }
  ]
}